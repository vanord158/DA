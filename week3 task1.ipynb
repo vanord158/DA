{
 "cells": [
  {
   "cell_type": "code",
   "execution_count": 1,
   "id": "36366edd",
   "metadata": {},
   "outputs": [
    {
     "name": "stderr",
     "output_type": "stream",
     "text": [
      "2023-04-10 19:36:19.242985: I tensorflow/core/platform/cpu_feature_guard.cc:182] This TensorFlow binary is optimized to use available CPU instructions in performance-critical operations.\n",
      "To enable the following instructions: AVX2 AVX512F AVX512_VNNI FMA, in other operations, rebuild TensorFlow with the appropriate compiler flags.\n"
     ]
    }
   ],
   "source": [
    "import pandas as pd\n",
    "import numpy as np\n",
    "import string\n",
    "from nltk.corpus import stopwords\n",
    "from nltk.tokenize import word_tokenize\n",
    "from gensim.models import Word2Vec\n",
    "from tensorflow.keras.preprocessing.text import Tokenizer\n",
    "from tensorflow.keras.preprocessing.sequence import pad_sequences\n",
    "from tensorflow.keras.layers import Embedding, Conv1D, MaxPooling1D, Flatten, Dense\n",
    "from tensorflow.keras.models import Sequential\n",
    "from sklearn.model_selection import train_test_split"
   ]
  },
  {
   "cell_type": "code",
   "execution_count": 31,
   "id": "0e3cbb15",
   "metadata": {},
   "outputs": [],
   "source": [
    "import string\n",
    "from string import digits"
   ]
  },
  {
   "cell_type": "code",
   "execution_count": 11,
   "id": "a9c0be9e",
   "metadata": {},
   "outputs": [],
   "source": [
    "# Load the data\n",
    "data=pd.read_json('/Users/vanord/Desktop/alphabet/week2/productRatings/reviews.json',lines=True)\n",
    "X_train_o, X_test_o, y_train_o, y_test_o = train_test_split(data['reviewText'], data['overall'], test_size=0.2, random_state=42)"
   ]
  },
  {
   "cell_type": "code",
   "execution_count": 32,
   "id": "f5ee6b34",
   "metadata": {},
   "outputs": [],
   "source": [
    "# Preprocess the text data\n",
    "stop_words = set(stopwords.words('english'))\n",
    "def preprocess(text):\n",
    "    text = text.lower()\n",
    "    text = ''.join([word for word in text if word not in string.punctuation])\n",
    "    tokens = word_tokenize(text)\n",
    "    tokens = [word for word in tokens if word not in stop_words]\n",
    "    tokens=[i.translate(str.maketrans('', '', digits)) for i in tokens]\n",
    "    return ' '.join(tokens)"
   ]
  },
  {
   "cell_type": "code",
   "execution_count": 33,
   "id": "707ac13d",
   "metadata": {},
   "outputs": [],
   "source": [
    "X_train_del = X_train_o.apply(preprocess)\n",
    "X_test_del = X_test_o.apply(preprocess)"
   ]
  },
  {
   "cell_type": "code",
   "execution_count": 34,
   "id": "486d5093",
   "metadata": {},
   "outputs": [],
   "source": [
    "# Tokenize the text data\n",
    "tokenizer = Tokenizer()\n",
    "tokenizer.fit_on_texts(X_train_del)"
   ]
  },
  {
   "cell_type": "code",
   "execution_count": 35,
   "id": "33c90857",
   "metadata": {},
   "outputs": [],
   "source": [
    "X_train = tokenizer.texts_to_sequences(X_train_del)\n",
    "X_test = tokenizer.texts_to_sequences(X_test_del)\n",
    "\n",
    "vocab_size = len(tokenizer.word_index) + 1"
   ]
  },
  {
   "cell_type": "code",
   "execution_count": 37,
   "id": "d69dbe1d",
   "metadata": {},
   "outputs": [],
   "source": [
    "# Pad the sequences to a fixed length\n",
    "max_length = 100\n",
    "X_train = pad_sequences(X_train, maxlen=max_length, padding='post')\n",
    "X_test = pad_sequences(X_test, maxlen=max_length, padding='post')"
   ]
  },
  {
   "cell_type": "code",
   "execution_count": 38,
   "id": "268e70ce",
   "metadata": {},
   "outputs": [
    {
     "data": {
      "text/plain": [
       "(237069, 100)"
      ]
     },
     "execution_count": 38,
     "metadata": {},
     "output_type": "execute_result"
    }
   ],
   "source": [
    "X_train.shape"
   ]
  },
  {
   "cell_type": "code",
   "execution_count": 39,
   "id": "145a4089",
   "metadata": {},
   "outputs": [],
   "source": [
    "# Train the Word2Vec model\n",
    "sentences = [sentence.split() for sentence in X_train_del]\n",
    "w2v_model = Word2Vec(sentences, window=5, min_count=5, workers=4)"
   ]
  },
  {
   "cell_type": "code",
   "execution_count": 40,
   "id": "28efdadb",
   "metadata": {},
   "outputs": [],
   "source": [
    "# Create a weight matrix for the embedding layer\n",
    "embedding_matrix = np.zeros((vocab_size, 100))\n",
    "for word, i in tokenizer.word_index.items():\n",
    "    if word in w2v_model.wv:\n",
    "        embedding_matrix[i] = w2v_model.wv[word]"
   ]
  },
  {
   "cell_type": "code",
   "execution_count": 45,
   "id": "45e3c84c",
   "metadata": {},
   "outputs": [
    {
     "name": "stdout",
     "output_type": "stream",
     "text": [
      "Epoch 1/10\n",
      "7409/7409 [==============================] - 109s 15ms/step - loss: 0.8589 - accuracy: 0.6649 - val_loss: 0.8246 - val_accuracy: 0.6757\n",
      "Epoch 2/10\n",
      "7409/7409 [==============================] - 114s 15ms/step - loss: 0.8040 - accuracy: 0.6812 - val_loss: 0.8110 - val_accuracy: 0.6824\n",
      "Epoch 3/10\n",
      "7409/7409 [==============================] - 111s 15ms/step - loss: 0.7757 - accuracy: 0.6901 - val_loss: 0.8032 - val_accuracy: 0.6837\n",
      "Epoch 4/10\n",
      "7409/7409 [==============================] - 108s 15ms/step - loss: 0.7522 - accuracy: 0.6981 - val_loss: 0.8132 - val_accuracy: 0.6799\n",
      "Epoch 5/10\n",
      "7409/7409 [==============================] - 107s 14ms/step - loss: 0.7304 - accuracy: 0.7057 - val_loss: 0.8131 - val_accuracy: 0.6792\n",
      "Epoch 6/10\n",
      "7409/7409 [==============================] - 112s 15ms/step - loss: 0.7099 - accuracy: 0.7123 - val_loss: 0.8270 - val_accuracy: 0.6759\n",
      "Epoch 7/10\n",
      "7409/7409 [==============================] - 119s 16ms/step - loss: 0.6909 - accuracy: 0.7211 - val_loss: 0.8359 - val_accuracy: 0.6714\n",
      "Epoch 8/10\n",
      "7409/7409 [==============================] - 118s 16ms/step - loss: 0.6734 - accuracy: 0.7266 - val_loss: 0.8632 - val_accuracy: 0.6717\n",
      "Epoch 9/10\n",
      "7409/7409 [==============================] - 113s 15ms/step - loss: 0.6564 - accuracy: 0.7335 - val_loss: 0.8786 - val_accuracy: 0.6683\n",
      "Epoch 10/10\n",
      "7409/7409 [==============================] - 113s 15ms/step - loss: 0.6404 - accuracy: 0.7392 - val_loss: 0.8741 - val_accuracy: 0.6632\n"
     ]
    },
    {
     "data": {
      "text/plain": [
       "<keras.callbacks.History at 0x7fcdc3f31d90>"
      ]
     },
     "execution_count": 45,
     "metadata": {},
     "output_type": "execute_result"
    }
   ],
   "source": [
    "# Define the CNN model\n",
    "model = Sequential()\n",
    "model.add(Embedding(vocab_size, 100, weights=[embedding_matrix], input_length=max_length, trainable=False))\n",
    "model.add(Conv1D(128, 5, activation='relu'))\n",
    "model.add(MaxPooling1D(5))\n",
    "model.add(Conv1D(128, 5, activation='relu'))\n",
    "model.add(MaxPooling1D(5))\n",
    "model.add(Flatten())\n",
    "model.add(Dense(128, activation='relu'))\n",
    "model.add(Dense(6, activation='sigmoid'))\n",
    "\n",
    "model.compile(optimizer='adam', loss='sparse_categorical_crossentropy', metrics=['accuracy'])\n",
    "model.fit(X_train, y_train_o, epochs=10, batch_size=32, validation_data=(X_test, y_test_o))"
   ]
  },
  {
   "cell_type": "code",
   "execution_count": null,
   "id": "0d147533",
   "metadata": {},
   "outputs": [],
   "source": []
  },
  {
   "cell_type": "code",
   "execution_count": null,
   "id": "09334981",
   "metadata": {},
   "outputs": [],
   "source": []
  }
 ],
 "metadata": {
  "kernelspec": {
   "display_name": "Python 3 (ipykernel)",
   "language": "python",
   "name": "python3"
  },
  "language_info": {
   "codemirror_mode": {
    "name": "ipython",
    "version": 3
   },
   "file_extension": ".py",
   "mimetype": "text/x-python",
   "name": "python",
   "nbconvert_exporter": "python",
   "pygments_lexer": "ipython3",
   "version": "3.9.12"
  }
 },
 "nbformat": 4,
 "nbformat_minor": 5
}
