{
 "cells": [
  {
   "cell_type": "code",
   "execution_count": 3,
   "id": "604c61d3",
   "metadata": {},
   "outputs": [],
   "source": [
    "import pandas as pd"
   ]
  },
  {
   "cell_type": "code",
   "execution_count": 4,
   "id": "bfccc918",
   "metadata": {},
   "outputs": [],
   "source": [
    "import os"
   ]
  },
  {
   "cell_type": "code",
   "execution_count": 87,
   "id": "ac26c785",
   "metadata": {},
   "outputs": [
    {
     "name": "stderr",
     "output_type": "stream",
     "text": [
      "2023-04-20 20:27:43.686558: I tensorflow/core/platform/cpu_feature_guard.cc:182] This TensorFlow binary is optimized to use available CPU instructions in performance-critical operations.\n",
      "To enable the following instructions: AVX2 AVX512F AVX512_VNNI FMA, in other operations, rebuild TensorFlow with the appropriate compiler flags.\n"
     ]
    }
   ],
   "source": [
    "from keras.layers import Input, Embedding, Flatten, Dense\n",
    "from keras.models import Model"
   ]
  },
  {
   "cell_type": "code",
   "execution_count": 223,
   "id": "60fcb6da",
   "metadata": {},
   "outputs": [],
   "source": [
    "from keras.models import Sequential"
   ]
  },
  {
   "cell_type": "code",
   "execution_count": 228,
   "id": "cf4a6be0",
   "metadata": {},
   "outputs": [],
   "source": [
    "import matplotlib.pyplot as plt\n",
    "import re\n",
    "import shutil\n",
    "import string\n",
    "import tensorflow as tf\n",
    "from tensorflow.keras import layers\n",
    "from tensorflow.keras import losses"
   ]
  },
  {
   "cell_type": "code",
   "execution_count": 5,
   "id": "0804c5da",
   "metadata": {},
   "outputs": [],
   "source": [
    "# 读取训练集的正面评论\n",
    "train_pos_dir = \"/Users/vanord/Desktop/alphabet/week4/IMDB/aclImdb/train/pos/\"\n",
    "train_pos_files = [os.path.join(train_pos_dir, f) for f in os.listdir(train_pos_dir) if f.endswith('.txt')]\n",
    "pos_train = pd.concat([pd.read_csv(f, header=None, names=['review'],delimiter='\\t',encoding='utf-8') for f in train_pos_files], ignore_index=True)\n",
    "\n",
    "# 读取训练集的负面评论\n",
    "train_neg_dir = \"/Users/vanord/Desktop/alphabet/week4/IMDB/aclImdb/train/neg/\"\n",
    "train_neg_files = [os.path.join(train_neg_dir, f) for f in os.listdir(train_neg_dir) if f.endswith('.txt')]\n",
    "neg_train = pd.concat([pd.read_csv(f, header=None, names=['review'],delimiter='\\t',encoding='utf-8') for f in train_neg_files], ignore_index=True)\n",
    "\n",
    "# 读取测试集的正面评论\n",
    "test_pos_dir = \"/Users/vanord/Desktop/alphabet/week4/IMDB/aclImdb/test/pos/\"\n",
    "test_pos_files = [os.path.join(test_pos_dir, f) for f in os.listdir(test_pos_dir) if f.endswith('.txt')]\n",
    "pos_test = pd.concat([pd.read_csv(f, header=None, names=['review'],delimiter='\\t',encoding='utf-8') for f in test_pos_files], ignore_index=True)\n",
    "\n",
    "# 读取测试集的负面评论\n",
    "test_neg_dir = \"/Users/vanord/Desktop/alphabet/week4/IMDB/aclImdb/test/neg/\"\n",
    "test_neg_files = [os.path.join(test_neg_dir, f) for f in os.listdir(test_neg_dir) if f.endswith('.txt')]\n",
    "neg_test = pd.concat([pd.read_csv(f, header=None, names=['review'],delimiter='\\t',encoding='utf-8') for f in test_neg_files], ignore_index=True)"
   ]
  },
  {
   "cell_type": "code",
   "execution_count": 6,
   "id": "caf9349d",
   "metadata": {},
   "outputs": [],
   "source": [
    "# 将训练集和测试集的正面评论和负面评论合并成两个数据集\n",
    "train = pd.concat([pos_train, neg_train], axis=0)\n",
    "test = pd.concat([pos_test, neg_test], axis=0)\n",
    "\n",
    "# 添加标签，1表示正面评论，0表示负面评论\n",
    "train['label'] = [1]*len(pos_train) + [0]*len(neg_train)\n",
    "test['label'] = [1]*len(pos_test) + [0]*len(neg_test)"
   ]
  },
  {
   "cell_type": "code",
   "execution_count": 7,
   "id": "0d3264b2",
   "metadata": {},
   "outputs": [
    {
     "name": "stdout",
     "output_type": "stream",
     "text": [
      "1    12500\n",
      "0    12500\n",
      "Name: label, dtype: int64\n",
      "1    12500\n",
      "0    12500\n",
      "Name: label, dtype: int64\n"
     ]
    }
   ],
   "source": [
    "# 打印数据集信息\n",
    "print(train['label'].value_counts())\n",
    "print(test['label'].value_counts())"
   ]
  },
  {
   "cell_type": "code",
   "execution_count": 114,
   "id": "804fa214",
   "metadata": {},
   "outputs": [],
   "source": [
    "df = pd.read_csv('/Users/vanord/Desktop/alphabet/week4/IMDB/name.basics.tsv.gz', delimiter='\\t', header=0, dtype={'nconst':str, 'primaryName':str, 'birthYear':str, 'deathYear':str, 'primaryProfession':str, 'knownForTitles':str})"
   ]
  },
  {
   "cell_type": "code",
   "execution_count": 10,
   "id": "5663d6cd",
   "metadata": {},
   "outputs": [
    {
     "data": {
      "text/html": [
       "<div>\n",
       "<style scoped>\n",
       "    .dataframe tbody tr th:only-of-type {\n",
       "        vertical-align: middle;\n",
       "    }\n",
       "\n",
       "    .dataframe tbody tr th {\n",
       "        vertical-align: top;\n",
       "    }\n",
       "\n",
       "    .dataframe thead th {\n",
       "        text-align: right;\n",
       "    }\n",
       "</style>\n",
       "<table border=\"1\" class=\"dataframe\">\n",
       "  <thead>\n",
       "    <tr style=\"text-align: right;\">\n",
       "      <th></th>\n",
       "      <th>review</th>\n",
       "      <th>label</th>\n",
       "    </tr>\n",
       "  </thead>\n",
       "  <tbody>\n",
       "    <tr>\n",
       "      <th>0</th>\n",
       "      <td>For a movie that gets no respect there sure ar...</td>\n",
       "      <td>1</td>\n",
       "    </tr>\n",
       "    <tr>\n",
       "      <th>1</th>\n",
       "      <td>Bizarre horror movie filled with famous faces ...</td>\n",
       "      <td>1</td>\n",
       "    </tr>\n",
       "    <tr>\n",
       "      <th>2</th>\n",
       "      <td>A solid, if unremarkable film. Matthau, as Ein...</td>\n",
       "      <td>1</td>\n",
       "    </tr>\n",
       "  </tbody>\n",
       "</table>\n",
       "</div>"
      ],
      "text/plain": [
       "                                              review  label\n",
       "0  For a movie that gets no respect there sure ar...      1\n",
       "1  Bizarre horror movie filled with famous faces ...      1\n",
       "2  A solid, if unremarkable film. Matthau, as Ein...      1"
      ]
     },
     "execution_count": 10,
     "metadata": {},
     "output_type": "execute_result"
    }
   ],
   "source": [
    "train.head(3)"
   ]
  },
  {
   "cell_type": "code",
   "execution_count": 11,
   "id": "463ebc74",
   "metadata": {},
   "outputs": [],
   "source": [
    "test_movie_id_score_pos=[]"
   ]
  },
  {
   "cell_type": "code",
   "execution_count": 12,
   "id": "2030d98f",
   "metadata": {},
   "outputs": [],
   "source": [
    "for dirpath, dirnames, filenames in os.walk('/Users/vanord/Desktop/alphabet/week4/IMDB/aclImdb/test/pos/'):\n",
    "    for filename in filenames:\n",
    "        # 提取文件名\n",
    "        file_name = os.path.splitext(filename)[0]\n",
    "        # 拆分文件名\n",
    "        parts = file_name.split('_')\n",
    "        # 打印拆分结果\n",
    "        test_movie_id_score_pos.append(parts)"
   ]
  },
  {
   "cell_type": "code",
   "execution_count": 13,
   "id": "7dbcbe38",
   "metadata": {},
   "outputs": [],
   "source": [
    "df_test_movie_id_score_pos=pd.DataFrame(test_movie_id_score_pos,columns=['id','score'])"
   ]
  },
  {
   "cell_type": "code",
   "execution_count": 14,
   "id": "49c3e54e",
   "metadata": {},
   "outputs": [],
   "source": [
    "df_test_movie_id_score_pos['label_1']=1"
   ]
  },
  {
   "cell_type": "code",
   "execution_count": 15,
   "id": "da952e9b",
   "metadata": {},
   "outputs": [
    {
     "data": {
      "text/html": [
       "<div>\n",
       "<style scoped>\n",
       "    .dataframe tbody tr th:only-of-type {\n",
       "        vertical-align: middle;\n",
       "    }\n",
       "\n",
       "    .dataframe tbody tr th {\n",
       "        vertical-align: top;\n",
       "    }\n",
       "\n",
       "    .dataframe thead th {\n",
       "        text-align: right;\n",
       "    }\n",
       "</style>\n",
       "<table border=\"1\" class=\"dataframe\">\n",
       "  <thead>\n",
       "    <tr style=\"text-align: right;\">\n",
       "      <th></th>\n",
       "      <th>id</th>\n",
       "      <th>score</th>\n",
       "      <th>label_1</th>\n",
       "    </tr>\n",
       "  </thead>\n",
       "  <tbody>\n",
       "    <tr>\n",
       "      <th>0</th>\n",
       "      <td>4715</td>\n",
       "      <td>9</td>\n",
       "      <td>1</td>\n",
       "    </tr>\n",
       "    <tr>\n",
       "      <th>1</th>\n",
       "      <td>1930</td>\n",
       "      <td>9</td>\n",
       "      <td>1</td>\n",
       "    </tr>\n",
       "    <tr>\n",
       "      <th>2</th>\n",
       "      <td>3205</td>\n",
       "      <td>9</td>\n",
       "      <td>1</td>\n",
       "    </tr>\n",
       "  </tbody>\n",
       "</table>\n",
       "</div>"
      ],
      "text/plain": [
       "     id score  label_1\n",
       "0  4715     9        1\n",
       "1  1930     9        1\n",
       "2  3205     9        1"
      ]
     },
     "execution_count": 15,
     "metadata": {},
     "output_type": "execute_result"
    }
   ],
   "source": [
    "df_test_movie_id_score_pos.head(3)"
   ]
  },
  {
   "cell_type": "code",
   "execution_count": 16,
   "id": "0d84af88",
   "metadata": {},
   "outputs": [],
   "source": [
    "test_movie_id_score_neg=[]"
   ]
  },
  {
   "cell_type": "code",
   "execution_count": 17,
   "id": "2484e295",
   "metadata": {},
   "outputs": [],
   "source": [
    "for dirpath, dirnames, filenames in os.walk('/Users/vanord/Desktop/alphabet/week4/IMDB/aclImdb/test/neg/'):\n",
    "    for filename in filenames:\n",
    "        # 提取文件名\n",
    "        file_name = os.path.splitext(filename)[0]\n",
    "        # 拆分文件名\n",
    "        parts = file_name.split('_')\n",
    "        # 打印拆分结果\n",
    "        test_movie_id_score_neg.append(parts)"
   ]
  },
  {
   "cell_type": "code",
   "execution_count": 18,
   "id": "639ad324",
   "metadata": {},
   "outputs": [],
   "source": [
    "df_test_movie_id_score_neg=pd.DataFrame(test_movie_id_score_neg,columns=['id','score'])"
   ]
  },
  {
   "cell_type": "code",
   "execution_count": 19,
   "id": "f25e2060",
   "metadata": {},
   "outputs": [],
   "source": [
    "df_test_movie_id_score_neg['label_1']=0"
   ]
  },
  {
   "cell_type": "code",
   "execution_count": 20,
   "id": "dd1a8f02",
   "metadata": {},
   "outputs": [
    {
     "data": {
      "text/html": [
       "<div>\n",
       "<style scoped>\n",
       "    .dataframe tbody tr th:only-of-type {\n",
       "        vertical-align: middle;\n",
       "    }\n",
       "\n",
       "    .dataframe tbody tr th {\n",
       "        vertical-align: top;\n",
       "    }\n",
       "\n",
       "    .dataframe thead th {\n",
       "        text-align: right;\n",
       "    }\n",
       "</style>\n",
       "<table border=\"1\" class=\"dataframe\">\n",
       "  <thead>\n",
       "    <tr style=\"text-align: right;\">\n",
       "      <th></th>\n",
       "      <th>id</th>\n",
       "      <th>score</th>\n",
       "      <th>label_1</th>\n",
       "    </tr>\n",
       "  </thead>\n",
       "  <tbody>\n",
       "    <tr>\n",
       "      <th>0</th>\n",
       "      <td>1821</td>\n",
       "      <td>4</td>\n",
       "      <td>0</td>\n",
       "    </tr>\n",
       "    <tr>\n",
       "      <th>1</th>\n",
       "      <td>9487</td>\n",
       "      <td>1</td>\n",
       "      <td>0</td>\n",
       "    </tr>\n",
       "    <tr>\n",
       "      <th>2</th>\n",
       "      <td>4604</td>\n",
       "      <td>4</td>\n",
       "      <td>0</td>\n",
       "    </tr>\n",
       "  </tbody>\n",
       "</table>\n",
       "</div>"
      ],
      "text/plain": [
       "     id score  label_1\n",
       "0  1821     4        0\n",
       "1  9487     1        0\n",
       "2  4604     4        0"
      ]
     },
     "execution_count": 20,
     "metadata": {},
     "output_type": "execute_result"
    }
   ],
   "source": [
    "df_test_movie_id_score_neg.head(3)"
   ]
  },
  {
   "cell_type": "code",
   "execution_count": 21,
   "id": "7fee39cf",
   "metadata": {},
   "outputs": [],
   "source": [
    "df_test_movie_id_score=pd.concat([df_test_movie_id_score_pos, df_test_movie_id_score_neg], axis=0)"
   ]
  },
  {
   "cell_type": "code",
   "execution_count": 22,
   "id": "c5e63ae0",
   "metadata": {},
   "outputs": [
    {
     "data": {
      "text/plain": [
       "1    12500\n",
       "0    12500\n",
       "Name: label_1, dtype: int64"
      ]
     },
     "execution_count": 22,
     "metadata": {},
     "output_type": "execute_result"
    }
   ],
   "source": [
    "df_test_movie_id_score.label_1.value_counts()"
   ]
  },
  {
   "cell_type": "code",
   "execution_count": 23,
   "id": "0ba41c0f",
   "metadata": {},
   "outputs": [],
   "source": [
    "test=pd.concat([test,df_test_movie_id_score], axis=1)"
   ]
  },
  {
   "cell_type": "code",
   "execution_count": 24,
   "id": "97ffd1b7",
   "metadata": {},
   "outputs": [],
   "source": [
    "test=test.drop(columns='label_1')"
   ]
  },
  {
   "cell_type": "code",
   "execution_count": 25,
   "id": "b943a5c6",
   "metadata": {},
   "outputs": [
    {
     "data": {
      "text/html": [
       "<div>\n",
       "<style scoped>\n",
       "    .dataframe tbody tr th:only-of-type {\n",
       "        vertical-align: middle;\n",
       "    }\n",
       "\n",
       "    .dataframe tbody tr th {\n",
       "        vertical-align: top;\n",
       "    }\n",
       "\n",
       "    .dataframe thead th {\n",
       "        text-align: right;\n",
       "    }\n",
       "</style>\n",
       "<table border=\"1\" class=\"dataframe\">\n",
       "  <thead>\n",
       "    <tr style=\"text-align: right;\">\n",
       "      <th></th>\n",
       "      <th>review</th>\n",
       "      <th>label</th>\n",
       "      <th>id</th>\n",
       "      <th>score</th>\n",
       "    </tr>\n",
       "  </thead>\n",
       "  <tbody>\n",
       "    <tr>\n",
       "      <th>0</th>\n",
       "      <td>Based on an actual story, John Boorman shows t...</td>\n",
       "      <td>1</td>\n",
       "      <td>4715</td>\n",
       "      <td>9</td>\n",
       "    </tr>\n",
       "    <tr>\n",
       "      <th>1</th>\n",
       "      <td>This is a gem. As a Film Four production - the...</td>\n",
       "      <td>1</td>\n",
       "      <td>1930</td>\n",
       "      <td>9</td>\n",
       "    </tr>\n",
       "    <tr>\n",
       "      <th>2</th>\n",
       "      <td>I really like this show. It has drama, romance...</td>\n",
       "      <td>1</td>\n",
       "      <td>3205</td>\n",
       "      <td>9</td>\n",
       "    </tr>\n",
       "  </tbody>\n",
       "</table>\n",
       "</div>"
      ],
      "text/plain": [
       "                                              review  label    id score\n",
       "0  Based on an actual story, John Boorman shows t...      1  4715     9\n",
       "1  This is a gem. As a Film Four production - the...      1  1930     9\n",
       "2  I really like this show. It has drama, romance...      1  3205     9"
      ]
     },
     "execution_count": 25,
     "metadata": {},
     "output_type": "execute_result"
    }
   ],
   "source": [
    "test.head(3)"
   ]
  },
  {
   "cell_type": "code",
   "execution_count": 26,
   "id": "e9657fde",
   "metadata": {},
   "outputs": [],
   "source": [
    "train_movie_id_score_pos=[]"
   ]
  },
  {
   "cell_type": "code",
   "execution_count": 27,
   "id": "207f5e8a",
   "metadata": {},
   "outputs": [],
   "source": [
    "for dirpath, dirnames, filenames in os.walk('/Users/vanord/Desktop/alphabet/week4/IMDB/aclImdb/train/pos/'):\n",
    "    for filename in filenames:\n",
    "        # 提取文件名\n",
    "        file_name = os.path.splitext(filename)[0]\n",
    "        # 拆分文件名\n",
    "        parts = file_name.split('_')\n",
    "        # 打印拆分结果\n",
    "        train_movie_id_score_pos.append(parts)"
   ]
  },
  {
   "cell_type": "code",
   "execution_count": 28,
   "id": "f5a928a2",
   "metadata": {},
   "outputs": [],
   "source": [
    "df_train_movie_id_score_pos=pd.DataFrame(train_movie_id_score_pos,columns=['id','score'])"
   ]
  },
  {
   "cell_type": "code",
   "execution_count": 29,
   "id": "3c53d820",
   "metadata": {},
   "outputs": [
    {
     "data": {
      "text/html": [
       "<div>\n",
       "<style scoped>\n",
       "    .dataframe tbody tr th:only-of-type {\n",
       "        vertical-align: middle;\n",
       "    }\n",
       "\n",
       "    .dataframe tbody tr th {\n",
       "        vertical-align: top;\n",
       "    }\n",
       "\n",
       "    .dataframe thead th {\n",
       "        text-align: right;\n",
       "    }\n",
       "</style>\n",
       "<table border=\"1\" class=\"dataframe\">\n",
       "  <thead>\n",
       "    <tr style=\"text-align: right;\">\n",
       "      <th></th>\n",
       "      <th>id</th>\n",
       "      <th>score</th>\n",
       "    </tr>\n",
       "  </thead>\n",
       "  <tbody>\n",
       "    <tr>\n",
       "      <th>0</th>\n",
       "      <td>4715</td>\n",
       "      <td>9</td>\n",
       "    </tr>\n",
       "    <tr>\n",
       "      <th>1</th>\n",
       "      <td>12390</td>\n",
       "      <td>8</td>\n",
       "    </tr>\n",
       "    <tr>\n",
       "      <th>2</th>\n",
       "      <td>8329</td>\n",
       "      <td>7</td>\n",
       "    </tr>\n",
       "  </tbody>\n",
       "</table>\n",
       "</div>"
      ],
      "text/plain": [
       "      id score\n",
       "0   4715     9\n",
       "1  12390     8\n",
       "2   8329     7"
      ]
     },
     "execution_count": 29,
     "metadata": {},
     "output_type": "execute_result"
    }
   ],
   "source": [
    "df_train_movie_id_score_pos.head(3)"
   ]
  },
  {
   "cell_type": "code",
   "execution_count": 30,
   "id": "677c7696",
   "metadata": {},
   "outputs": [],
   "source": [
    "train_movie_id_score_neg=[]"
   ]
  },
  {
   "cell_type": "code",
   "execution_count": 31,
   "id": "5d9adc43",
   "metadata": {},
   "outputs": [],
   "source": [
    "for dirpath, dirnames, filenames in os.walk('/Users/vanord/Desktop/alphabet/week4/IMDB/aclImdb/train/neg/'):\n",
    "    for filename in filenames:\n",
    "        # 提取文件名\n",
    "        file_name = os.path.splitext(filename)[0]\n",
    "        # 拆分文件名\n",
    "        parts = file_name.split('_')\n",
    "        # 打印拆分结果\n",
    "        train_movie_id_score_neg.append(parts)"
   ]
  },
  {
   "cell_type": "code",
   "execution_count": 32,
   "id": "016ba748",
   "metadata": {},
   "outputs": [],
   "source": [
    "df_train_movie_id_score_neg=pd.DataFrame(train_movie_id_score_neg,columns=['id','score'])"
   ]
  },
  {
   "cell_type": "code",
   "execution_count": 33,
   "id": "400f8296",
   "metadata": {},
   "outputs": [],
   "source": [
    "df_train_movie_id_score_neg['label_1']=0"
   ]
  },
  {
   "cell_type": "code",
   "execution_count": 34,
   "id": "e5c9a869",
   "metadata": {},
   "outputs": [],
   "source": [
    "df_train_movie_id_score_pos['label_1']=1"
   ]
  },
  {
   "cell_type": "code",
   "execution_count": 35,
   "id": "0a803f2c",
   "metadata": {},
   "outputs": [
    {
     "data": {
      "text/plain": [
       "(12500, 3)"
      ]
     },
     "execution_count": 35,
     "metadata": {},
     "output_type": "execute_result"
    }
   ],
   "source": [
    "df_test_movie_id_score_neg.shape"
   ]
  },
  {
   "cell_type": "code",
   "execution_count": 36,
   "id": "27f1a70d",
   "metadata": {},
   "outputs": [
    {
     "data": {
      "text/plain": [
       "(12500, 3)"
      ]
     },
     "execution_count": 36,
     "metadata": {},
     "output_type": "execute_result"
    }
   ],
   "source": [
    "df_test_movie_id_score_pos.shape"
   ]
  },
  {
   "cell_type": "code",
   "execution_count": 37,
   "id": "b8e7b3e6",
   "metadata": {},
   "outputs": [],
   "source": [
    "df_train_movie_id_score=pd.concat([df_train_movie_id_score_pos, df_train_movie_id_score_neg], axis=0)"
   ]
  },
  {
   "cell_type": "code",
   "execution_count": 38,
   "id": "9ee3e717",
   "metadata": {},
   "outputs": [],
   "source": [
    "train=pd.concat([train,df_train_movie_id_score], axis=1)"
   ]
  },
  {
   "cell_type": "code",
   "execution_count": 39,
   "id": "9c54e54d",
   "metadata": {},
   "outputs": [],
   "source": [
    "train=train.drop(columns='label_1')"
   ]
  },
  {
   "cell_type": "code",
   "execution_count": 40,
   "id": "bae3a8ca",
   "metadata": {},
   "outputs": [
    {
     "data": {
      "text/html": [
       "<div>\n",
       "<style scoped>\n",
       "    .dataframe tbody tr th:only-of-type {\n",
       "        vertical-align: middle;\n",
       "    }\n",
       "\n",
       "    .dataframe tbody tr th {\n",
       "        vertical-align: top;\n",
       "    }\n",
       "\n",
       "    .dataframe thead th {\n",
       "        text-align: right;\n",
       "    }\n",
       "</style>\n",
       "<table border=\"1\" class=\"dataframe\">\n",
       "  <thead>\n",
       "    <tr style=\"text-align: right;\">\n",
       "      <th></th>\n",
       "      <th>review</th>\n",
       "      <th>label</th>\n",
       "      <th>id</th>\n",
       "      <th>score</th>\n",
       "    </tr>\n",
       "  </thead>\n",
       "  <tbody>\n",
       "    <tr>\n",
       "      <th>0</th>\n",
       "      <td>For a movie that gets no respect there sure ar...</td>\n",
       "      <td>1</td>\n",
       "      <td>4715</td>\n",
       "      <td>9</td>\n",
       "    </tr>\n",
       "    <tr>\n",
       "      <th>1</th>\n",
       "      <td>Bizarre horror movie filled with famous faces ...</td>\n",
       "      <td>1</td>\n",
       "      <td>12390</td>\n",
       "      <td>8</td>\n",
       "    </tr>\n",
       "    <tr>\n",
       "      <th>2</th>\n",
       "      <td>A solid, if unremarkable film. Matthau, as Ein...</td>\n",
       "      <td>1</td>\n",
       "      <td>8329</td>\n",
       "      <td>7</td>\n",
       "    </tr>\n",
       "    <tr>\n",
       "      <th>3</th>\n",
       "      <td>It's a strange feeling to sit alone in a theat...</td>\n",
       "      <td>1</td>\n",
       "      <td>9063</td>\n",
       "      <td>8</td>\n",
       "    </tr>\n",
       "    <tr>\n",
       "      <th>4</th>\n",
       "      <td>You probably all already know this by now, but...</td>\n",
       "      <td>1</td>\n",
       "      <td>3092</td>\n",
       "      <td>10</td>\n",
       "    </tr>\n",
       "    <tr>\n",
       "      <th>5</th>\n",
       "      <td>I saw the movie with two grown children. Altho...</td>\n",
       "      <td>1</td>\n",
       "      <td>9865</td>\n",
       "      <td>8</td>\n",
       "    </tr>\n",
       "    <tr>\n",
       "      <th>6</th>\n",
       "      <td>You're using the IMDb.&lt;br /&gt;&lt;br /&gt;You've given...</td>\n",
       "      <td>1</td>\n",
       "      <td>6639</td>\n",
       "      <td>10</td>\n",
       "    </tr>\n",
       "    <tr>\n",
       "      <th>7</th>\n",
       "      <td>This was a good film with a powerful message o...</td>\n",
       "      <td>1</td>\n",
       "      <td>10460</td>\n",
       "      <td>10</td>\n",
       "    </tr>\n",
       "    <tr>\n",
       "      <th>8</th>\n",
       "      <td>Made after QUARTET was, TRIO continued the qua...</td>\n",
       "      <td>1</td>\n",
       "      <td>10331</td>\n",
       "      <td>10</td>\n",
       "    </tr>\n",
       "    <tr>\n",
       "      <th>9</th>\n",
       "      <td>For a mature man, to admit that he shed a tear...</td>\n",
       "      <td>1</td>\n",
       "      <td>11606</td>\n",
       "      <td>10</td>\n",
       "    </tr>\n",
       "  </tbody>\n",
       "</table>\n",
       "</div>"
      ],
      "text/plain": [
       "                                              review  label     id score\n",
       "0  For a movie that gets no respect there sure ar...      1   4715     9\n",
       "1  Bizarre horror movie filled with famous faces ...      1  12390     8\n",
       "2  A solid, if unremarkable film. Matthau, as Ein...      1   8329     7\n",
       "3  It's a strange feeling to sit alone in a theat...      1   9063     8\n",
       "4  You probably all already know this by now, but...      1   3092    10\n",
       "5  I saw the movie with two grown children. Altho...      1   9865     8\n",
       "6  You're using the IMDb.<br /><br />You've given...      1   6639    10\n",
       "7  This was a good film with a powerful message o...      1  10460    10\n",
       "8  Made after QUARTET was, TRIO continued the qua...      1  10331    10\n",
       "9  For a mature man, to admit that he shed a tear...      1  11606    10"
      ]
     },
     "execution_count": 40,
     "metadata": {},
     "output_type": "execute_result"
    }
   ],
   "source": [
    "train.head(10)"
   ]
  },
  {
   "cell_type": "code",
   "execution_count": 115,
   "id": "6337f145",
   "metadata": {},
   "outputs": [],
   "source": [
    "df['knownForTitles']=df['knownForTitles'].apply(lambda x: x.split(','))"
   ]
  },
  {
   "cell_type": "code",
   "execution_count": 116,
   "id": "c1a0f9ac",
   "metadata": {},
   "outputs": [],
   "source": [
    "df['primaryProfession']=df['primaryProfession'].apply(lambda x: str(x).split(','))"
   ]
  },
  {
   "cell_type": "code",
   "execution_count": 122,
   "id": "7bf2f49d",
   "metadata": {},
   "outputs": [
    {
     "data": {
      "text/html": [
       "<div>\n",
       "<style scoped>\n",
       "    .dataframe tbody tr th:only-of-type {\n",
       "        vertical-align: middle;\n",
       "    }\n",
       "\n",
       "    .dataframe tbody tr th {\n",
       "        vertical-align: top;\n",
       "    }\n",
       "\n",
       "    .dataframe thead th {\n",
       "        text-align: right;\n",
       "    }\n",
       "</style>\n",
       "<table border=\"1\" class=\"dataframe\">\n",
       "  <thead>\n",
       "    <tr style=\"text-align: right;\">\n",
       "      <th></th>\n",
       "      <th>nconst</th>\n",
       "      <th>primaryName</th>\n",
       "      <th>birthYear</th>\n",
       "      <th>deathYear</th>\n",
       "      <th>primaryProfession</th>\n",
       "      <th>knownForTitles</th>\n",
       "    </tr>\n",
       "  </thead>\n",
       "  <tbody>\n",
       "    <tr>\n",
       "      <th>0</th>\n",
       "      <td>nm0000001</td>\n",
       "      <td>Fred Astaire</td>\n",
       "      <td>1899</td>\n",
       "      <td>1987</td>\n",
       "      <td>[soundtrack, actor, miscellaneous]</td>\n",
       "      <td>[tt0050419, tt0031983, tt0053137, tt0072308]</td>\n",
       "    </tr>\n",
       "    <tr>\n",
       "      <th>1</th>\n",
       "      <td>nm0000002</td>\n",
       "      <td>Lauren Bacall</td>\n",
       "      <td>1924</td>\n",
       "      <td>2014</td>\n",
       "      <td>[actress, soundtrack]</td>\n",
       "      <td>[tt0117057, tt0038355, tt0071877, tt0037382]</td>\n",
       "    </tr>\n",
       "    <tr>\n",
       "      <th>2</th>\n",
       "      <td>nm0000003</td>\n",
       "      <td>Brigitte Bardot</td>\n",
       "      <td>1934</td>\n",
       "      <td>\\N</td>\n",
       "      <td>[actress, soundtrack, music_department]</td>\n",
       "      <td>[tt0056404, tt0049189, tt0054452, tt0057345]</td>\n",
       "    </tr>\n",
       "  </tbody>\n",
       "</table>\n",
       "</div>"
      ],
      "text/plain": [
       "      nconst      primaryName birthYear deathYear  \\\n",
       "0  nm0000001     Fred Astaire      1899      1987   \n",
       "1  nm0000002    Lauren Bacall      1924      2014   \n",
       "2  nm0000003  Brigitte Bardot      1934        \\N   \n",
       "\n",
       "                         primaryProfession  \\\n",
       "0       [soundtrack, actor, miscellaneous]   \n",
       "1                    [actress, soundtrack]   \n",
       "2  [actress, soundtrack, music_department]   \n",
       "\n",
       "                                 knownForTitles  \n",
       "0  [tt0050419, tt0031983, tt0053137, tt0072308]  \n",
       "1  [tt0117057, tt0038355, tt0071877, tt0037382]  \n",
       "2  [tt0056404, tt0049189, tt0054452, tt0057345]  "
      ]
     },
     "execution_count": 122,
     "metadata": {},
     "output_type": "execute_result"
    }
   ],
   "source": [
    "df.head(3)"
   ]
  },
  {
   "cell_type": "code",
   "execution_count": 123,
   "id": "7ff318d9",
   "metadata": {},
   "outputs": [
    {
     "data": {
      "text/plain": [
       "'0012'"
      ]
     },
     "execution_count": 123,
     "metadata": {},
     "output_type": "execute_result"
    }
   ],
   "source": [
    "df[df['deathYear']=='\\\\N']['birthYear'].min()"
   ]
  },
  {
   "cell_type": "code",
   "execution_count": 124,
   "id": "f30b349e",
   "metadata": {},
   "outputs": [],
   "source": [
    "df['deathYear_ab']=df['deathYear'].apply(lambda x: 1 if x.startswith('0') else 0)"
   ]
  },
  {
   "cell_type": "code",
   "execution_count": 125,
   "id": "938c8b1a",
   "metadata": {},
   "outputs": [],
   "source": [
    "df['birthYear_ab']=df['birthYear'].apply(lambda x: 1 if x.startswith('0') else 0)"
   ]
  },
  {
   "cell_type": "code",
   "execution_count": 126,
   "id": "b1de7aa8",
   "metadata": {},
   "outputs": [],
   "source": [
    "df=df[(df['deathYear_ab']==0) & (df['birthYear_ab']==0)]"
   ]
  },
  {
   "cell_type": "code",
   "execution_count": 127,
   "id": "f3aa11ca",
   "metadata": {},
   "outputs": [],
   "source": [
    "df=df[df['birthYear']!='\\\\N']"
   ]
  },
  {
   "cell_type": "code",
   "execution_count": 128,
   "id": "9c9b4156",
   "metadata": {},
   "outputs": [
    {
     "data": {
      "text/plain": [
       "(552216, 8)"
      ]
     },
     "execution_count": 128,
     "metadata": {},
     "output_type": "execute_result"
    }
   ],
   "source": [
    "df.shape"
   ]
  },
  {
   "cell_type": "code",
   "execution_count": 129,
   "id": "119ceb35",
   "metadata": {},
   "outputs": [
    {
     "data": {
      "text/plain": [
       "'2022'"
      ]
     },
     "execution_count": 129,
     "metadata": {},
     "output_type": "execute_result"
    }
   ],
   "source": [
    "df['birthYear'].value_counts().index.max()"
   ]
  },
  {
   "cell_type": "code",
   "execution_count": 130,
   "id": "67af2c40",
   "metadata": {},
   "outputs": [
    {
     "data": {
      "text/html": [
       "<div>\n",
       "<style scoped>\n",
       "    .dataframe tbody tr th:only-of-type {\n",
       "        vertical-align: middle;\n",
       "    }\n",
       "\n",
       "    .dataframe tbody tr th {\n",
       "        vertical-align: top;\n",
       "    }\n",
       "\n",
       "    .dataframe thead th {\n",
       "        text-align: right;\n",
       "    }\n",
       "</style>\n",
       "<table border=\"1\" class=\"dataframe\">\n",
       "  <thead>\n",
       "    <tr style=\"text-align: right;\">\n",
       "      <th></th>\n",
       "      <th>nconst</th>\n",
       "      <th>primaryName</th>\n",
       "      <th>birthYear</th>\n",
       "      <th>deathYear</th>\n",
       "      <th>primaryProfession</th>\n",
       "      <th>knownForTitles</th>\n",
       "      <th>deathYear_ab</th>\n",
       "      <th>birthYear_ab</th>\n",
       "    </tr>\n",
       "  </thead>\n",
       "  <tbody>\n",
       "    <tr>\n",
       "      <th>0</th>\n",
       "      <td>nm0000001</td>\n",
       "      <td>Fred Astaire</td>\n",
       "      <td>1899</td>\n",
       "      <td>1987</td>\n",
       "      <td>[soundtrack, actor, miscellaneous]</td>\n",
       "      <td>[tt0050419, tt0031983, tt0053137, tt0072308]</td>\n",
       "      <td>0</td>\n",
       "      <td>0</td>\n",
       "    </tr>\n",
       "    <tr>\n",
       "      <th>1</th>\n",
       "      <td>nm0000002</td>\n",
       "      <td>Lauren Bacall</td>\n",
       "      <td>1924</td>\n",
       "      <td>2014</td>\n",
       "      <td>[actress, soundtrack]</td>\n",
       "      <td>[tt0117057, tt0038355, tt0071877, tt0037382]</td>\n",
       "      <td>0</td>\n",
       "      <td>0</td>\n",
       "    </tr>\n",
       "    <tr>\n",
       "      <th>2</th>\n",
       "      <td>nm0000003</td>\n",
       "      <td>Brigitte Bardot</td>\n",
       "      <td>1934</td>\n",
       "      <td>\\N</td>\n",
       "      <td>[actress, soundtrack, music_department]</td>\n",
       "      <td>[tt0056404, tt0049189, tt0054452, tt0057345]</td>\n",
       "      <td>0</td>\n",
       "      <td>0</td>\n",
       "    </tr>\n",
       "    <tr>\n",
       "      <th>3</th>\n",
       "      <td>nm0000004</td>\n",
       "      <td>John Belushi</td>\n",
       "      <td>1949</td>\n",
       "      <td>1982</td>\n",
       "      <td>[actor, soundtrack, writer]</td>\n",
       "      <td>[tt0080455, tt0072562, tt0078723, tt0077975]</td>\n",
       "      <td>0</td>\n",
       "      <td>0</td>\n",
       "    </tr>\n",
       "    <tr>\n",
       "      <th>4</th>\n",
       "      <td>nm0000005</td>\n",
       "      <td>Ingmar Bergman</td>\n",
       "      <td>1918</td>\n",
       "      <td>2007</td>\n",
       "      <td>[writer, director, actor]</td>\n",
       "      <td>[tt0050986, tt0060827, tt0050976, tt0083922]</td>\n",
       "      <td>0</td>\n",
       "      <td>0</td>\n",
       "    </tr>\n",
       "    <tr>\n",
       "      <th>5</th>\n",
       "      <td>nm0000006</td>\n",
       "      <td>Ingrid Bergman</td>\n",
       "      <td>1915</td>\n",
       "      <td>1982</td>\n",
       "      <td>[actress, soundtrack, producer]</td>\n",
       "      <td>[tt0077711, tt0038109, tt0036855, tt0034583]</td>\n",
       "      <td>0</td>\n",
       "      <td>0</td>\n",
       "    </tr>\n",
       "    <tr>\n",
       "      <th>6</th>\n",
       "      <td>nm0000007</td>\n",
       "      <td>Humphrey Bogart</td>\n",
       "      <td>1899</td>\n",
       "      <td>1957</td>\n",
       "      <td>[actor, soundtrack, producer]</td>\n",
       "      <td>[tt0034583, tt0037382, tt0042593, tt0043265]</td>\n",
       "      <td>0</td>\n",
       "      <td>0</td>\n",
       "    </tr>\n",
       "    <tr>\n",
       "      <th>7</th>\n",
       "      <td>nm0000008</td>\n",
       "      <td>Marlon Brando</td>\n",
       "      <td>1924</td>\n",
       "      <td>2004</td>\n",
       "      <td>[actor, soundtrack, director]</td>\n",
       "      <td>[tt0047296, tt0068646, tt0070849, tt0078788]</td>\n",
       "      <td>0</td>\n",
       "      <td>0</td>\n",
       "    </tr>\n",
       "    <tr>\n",
       "      <th>8</th>\n",
       "      <td>nm0000009</td>\n",
       "      <td>Richard Burton</td>\n",
       "      <td>1925</td>\n",
       "      <td>1984</td>\n",
       "      <td>[actor, soundtrack, producer]</td>\n",
       "      <td>[tt0057877, tt0059749, tt0087803, tt0061184]</td>\n",
       "      <td>0</td>\n",
       "      <td>0</td>\n",
       "    </tr>\n",
       "    <tr>\n",
       "      <th>9</th>\n",
       "      <td>nm0000010</td>\n",
       "      <td>James Cagney</td>\n",
       "      <td>1899</td>\n",
       "      <td>1986</td>\n",
       "      <td>[actor, soundtrack, director]</td>\n",
       "      <td>[tt0031867, tt0035575, tt0042041, tt0029870]</td>\n",
       "      <td>0</td>\n",
       "      <td>0</td>\n",
       "    </tr>\n",
       "  </tbody>\n",
       "</table>\n",
       "</div>"
      ],
      "text/plain": [
       "      nconst      primaryName birthYear deathYear  \\\n",
       "0  nm0000001     Fred Astaire      1899      1987   \n",
       "1  nm0000002    Lauren Bacall      1924      2014   \n",
       "2  nm0000003  Brigitte Bardot      1934        \\N   \n",
       "3  nm0000004     John Belushi      1949      1982   \n",
       "4  nm0000005   Ingmar Bergman      1918      2007   \n",
       "5  nm0000006   Ingrid Bergman      1915      1982   \n",
       "6  nm0000007  Humphrey Bogart      1899      1957   \n",
       "7  nm0000008    Marlon Brando      1924      2004   \n",
       "8  nm0000009   Richard Burton      1925      1984   \n",
       "9  nm0000010     James Cagney      1899      1986   \n",
       "\n",
       "                         primaryProfession  \\\n",
       "0       [soundtrack, actor, miscellaneous]   \n",
       "1                    [actress, soundtrack]   \n",
       "2  [actress, soundtrack, music_department]   \n",
       "3              [actor, soundtrack, writer]   \n",
       "4                [writer, director, actor]   \n",
       "5          [actress, soundtrack, producer]   \n",
       "6            [actor, soundtrack, producer]   \n",
       "7            [actor, soundtrack, director]   \n",
       "8            [actor, soundtrack, producer]   \n",
       "9            [actor, soundtrack, director]   \n",
       "\n",
       "                                 knownForTitles  deathYear_ab  birthYear_ab  \n",
       "0  [tt0050419, tt0031983, tt0053137, tt0072308]             0             0  \n",
       "1  [tt0117057, tt0038355, tt0071877, tt0037382]             0             0  \n",
       "2  [tt0056404, tt0049189, tt0054452, tt0057345]             0             0  \n",
       "3  [tt0080455, tt0072562, tt0078723, tt0077975]             0             0  \n",
       "4  [tt0050986, tt0060827, tt0050976, tt0083922]             0             0  \n",
       "5  [tt0077711, tt0038109, tt0036855, tt0034583]             0             0  \n",
       "6  [tt0034583, tt0037382, tt0042593, tt0043265]             0             0  \n",
       "7  [tt0047296, tt0068646, tt0070849, tt0078788]             0             0  \n",
       "8  [tt0057877, tt0059749, tt0087803, tt0061184]             0             0  \n",
       "9  [tt0031867, tt0035575, tt0042041, tt0029870]             0             0  "
      ]
     },
     "execution_count": 130,
     "metadata": {},
     "output_type": "execute_result"
    }
   ],
   "source": [
    "df.head(10)"
   ]
  },
  {
   "cell_type": "code",
   "execution_count": 131,
   "id": "f5a29bf0",
   "metadata": {},
   "outputs": [
    {
     "data": {
      "text/html": [
       "<div>\n",
       "<style scoped>\n",
       "    .dataframe tbody tr th:only-of-type {\n",
       "        vertical-align: middle;\n",
       "    }\n",
       "\n",
       "    .dataframe tbody tr th {\n",
       "        vertical-align: top;\n",
       "    }\n",
       "\n",
       "    .dataframe thead th {\n",
       "        text-align: right;\n",
       "    }\n",
       "</style>\n",
       "<table border=\"1\" class=\"dataframe\">\n",
       "  <thead>\n",
       "    <tr style=\"text-align: right;\">\n",
       "      <th></th>\n",
       "      <th>nconst</th>\n",
       "      <th>primaryName</th>\n",
       "      <th>birthYear</th>\n",
       "      <th>deathYear</th>\n",
       "      <th>primaryProfession</th>\n",
       "      <th>knownForTitles</th>\n",
       "      <th>deathYear_ab</th>\n",
       "      <th>birthYear_ab</th>\n",
       "    </tr>\n",
       "  </thead>\n",
       "  <tbody>\n",
       "    <tr>\n",
       "      <th>2</th>\n",
       "      <td>nm0000003</td>\n",
       "      <td>Brigitte Bardot</td>\n",
       "      <td>1934</td>\n",
       "      <td>\\N</td>\n",
       "      <td>[actress, soundtrack, music_department]</td>\n",
       "      <td>[tt0056404, tt0049189, tt0054452, tt0057345]</td>\n",
       "      <td>0</td>\n",
       "      <td>0</td>\n",
       "    </tr>\n",
       "    <tr>\n",
       "      <th>46</th>\n",
       "      <td>nm0000047</td>\n",
       "      <td>Sophia Loren</td>\n",
       "      <td>1934</td>\n",
       "      <td>\\N</td>\n",
       "      <td>[actress, soundtrack]</td>\n",
       "      <td>[tt0076085, tt0058335, tt0054749, tt0060121]</td>\n",
       "      <td>0</td>\n",
       "      <td>0</td>\n",
       "    </tr>\n",
       "    <tr>\n",
       "      <th>78</th>\n",
       "      <td>nm0000079</td>\n",
       "      <td>Raquel Welch</td>\n",
       "      <td>1940</td>\n",
       "      <td>\\N</td>\n",
       "      <td>[actress, soundtrack, producer]</td>\n",
       "      <td>[tt0072281, tt0070291, tt0061653, tt0066115]</td>\n",
       "      <td>0</td>\n",
       "      <td>0</td>\n",
       "    </tr>\n",
       "    <tr>\n",
       "      <th>83</th>\n",
       "      <td>nm0000084</td>\n",
       "      <td>Gong Li</td>\n",
       "      <td>1965</td>\n",
       "      <td>\\N</td>\n",
       "      <td>[actress, producer]</td>\n",
       "      <td>[tt0473444, tt0101640, tt0397535, tt0430357]</td>\n",
       "      <td>0</td>\n",
       "      <td>0</td>\n",
       "    </tr>\n",
       "    <tr>\n",
       "      <th>84</th>\n",
       "      <td>nm0000085</td>\n",
       "      <td>Henner Hofmann</td>\n",
       "      <td>1950</td>\n",
       "      <td>\\N</td>\n",
       "      <td>[cinematographer, producer, camera_department]</td>\n",
       "      <td>[tt0097523, tt0113482, tt1825758, tt0097738]</td>\n",
       "      <td>0</td>\n",
       "      <td>0</td>\n",
       "    </tr>\n",
       "    <tr>\n",
       "      <th>...</th>\n",
       "      <td>...</td>\n",
       "      <td>...</td>\n",
       "      <td>...</td>\n",
       "      <td>...</td>\n",
       "      <td>...</td>\n",
       "      <td>...</td>\n",
       "      <td>...</td>\n",
       "      <td>...</td>\n",
       "    </tr>\n",
       "    <tr>\n",
       "      <th>11671564</th>\n",
       "      <td>nm9992812</td>\n",
       "      <td>Daisy</td>\n",
       "      <td>1994</td>\n",
       "      <td>\\N</td>\n",
       "      <td>[actress]</td>\n",
       "      <td>[tt8281190]</td>\n",
       "      <td>0</td>\n",
       "      <td>0</td>\n",
       "    </tr>\n",
       "    <tr>\n",
       "      <th>11671668</th>\n",
       "      <td>nm9992946</td>\n",
       "      <td>Christoph Blaschke</td>\n",
       "      <td>1993</td>\n",
       "      <td>\\N</td>\n",
       "      <td>[miscellaneous, assistant_director, camera_dep...</td>\n",
       "      <td>[tt17321230, tt9738336, tt10172548, tt11650404]</td>\n",
       "      <td>0</td>\n",
       "      <td>0</td>\n",
       "    </tr>\n",
       "    <tr>\n",
       "      <th>11671692</th>\n",
       "      <td>nm9992971</td>\n",
       "      <td>Shamica Anderson</td>\n",
       "      <td>1988</td>\n",
       "      <td>\\N</td>\n",
       "      <td>[editor, cinematographer, producer]</td>\n",
       "      <td>[tt12788416, tt13702196, tt11910974, tt17888710]</td>\n",
       "      <td>0</td>\n",
       "      <td>0</td>\n",
       "    </tr>\n",
       "    <tr>\n",
       "      <th>11671893</th>\n",
       "      <td>nm9993199</td>\n",
       "      <td>Denis Nurulin</td>\n",
       "      <td>1997</td>\n",
       "      <td>\\N</td>\n",
       "      <td>[actor]</td>\n",
       "      <td>[tt8721954, tt12351166, tt16689786, tt13756156]</td>\n",
       "      <td>0</td>\n",
       "      <td>0</td>\n",
       "    </tr>\n",
       "    <tr>\n",
       "      <th>11672058</th>\n",
       "      <td>nm9993379</td>\n",
       "      <td>Fanny Hozleiter</td>\n",
       "      <td>1988</td>\n",
       "      <td>\\N</td>\n",
       "      <td>[director, actress, writer]</td>\n",
       "      <td>[tt8743182]</td>\n",
       "      <td>0</td>\n",
       "      <td>0</td>\n",
       "    </tr>\n",
       "  </tbody>\n",
       "</table>\n",
       "<p>361689 rows × 8 columns</p>\n",
       "</div>"
      ],
      "text/plain": [
       "             nconst         primaryName birthYear deathYear  \\\n",
       "2         nm0000003     Brigitte Bardot      1934        \\N   \n",
       "46        nm0000047        Sophia Loren      1934        \\N   \n",
       "78        nm0000079        Raquel Welch      1940        \\N   \n",
       "83        nm0000084             Gong Li      1965        \\N   \n",
       "84        nm0000085      Henner Hofmann      1950        \\N   \n",
       "...             ...                 ...       ...       ...   \n",
       "11671564  nm9992812               Daisy      1994        \\N   \n",
       "11671668  nm9992946  Christoph Blaschke      1993        \\N   \n",
       "11671692  nm9992971    Shamica Anderson      1988        \\N   \n",
       "11671893  nm9993199       Denis Nurulin      1997        \\N   \n",
       "11672058  nm9993379     Fanny Hozleiter      1988        \\N   \n",
       "\n",
       "                                          primaryProfession  \\\n",
       "2                   [actress, soundtrack, music_department]   \n",
       "46                                    [actress, soundtrack]   \n",
       "78                          [actress, soundtrack, producer]   \n",
       "83                                      [actress, producer]   \n",
       "84           [cinematographer, producer, camera_department]   \n",
       "...                                                     ...   \n",
       "11671564                                          [actress]   \n",
       "11671668  [miscellaneous, assistant_director, camera_dep...   \n",
       "11671692                [editor, cinematographer, producer]   \n",
       "11671893                                            [actor]   \n",
       "11672058                        [director, actress, writer]   \n",
       "\n",
       "                                            knownForTitles  deathYear_ab  \\\n",
       "2             [tt0056404, tt0049189, tt0054452, tt0057345]             0   \n",
       "46            [tt0076085, tt0058335, tt0054749, tt0060121]             0   \n",
       "78            [tt0072281, tt0070291, tt0061653, tt0066115]             0   \n",
       "83            [tt0473444, tt0101640, tt0397535, tt0430357]             0   \n",
       "84            [tt0097523, tt0113482, tt1825758, tt0097738]             0   \n",
       "...                                                    ...           ...   \n",
       "11671564                                       [tt8281190]             0   \n",
       "11671668   [tt17321230, tt9738336, tt10172548, tt11650404]             0   \n",
       "11671692  [tt12788416, tt13702196, tt11910974, tt17888710]             0   \n",
       "11671893   [tt8721954, tt12351166, tt16689786, tt13756156]             0   \n",
       "11672058                                       [tt8743182]             0   \n",
       "\n",
       "          birthYear_ab  \n",
       "2                    0  \n",
       "46                   0  \n",
       "78                   0  \n",
       "83                   0  \n",
       "84                   0  \n",
       "...                ...  \n",
       "11671564             0  \n",
       "11671668             0  \n",
       "11671692             0  \n",
       "11671893             0  \n",
       "11672058             0  \n",
       "\n",
       "[361689 rows x 8 columns]"
      ]
     },
     "execution_count": 131,
     "metadata": {},
     "output_type": "execute_result"
    }
   ],
   "source": [
    "df[df['deathYear']=='\\\\N']"
   ]
  },
  {
   "cell_type": "code",
   "execution_count": 132,
   "id": "cde73d5a",
   "metadata": {},
   "outputs": [],
   "source": [
    "df=df.replace('\\\\N','2023')"
   ]
  },
  {
   "cell_type": "code",
   "execution_count": 133,
   "id": "adf051d3",
   "metadata": {},
   "outputs": [],
   "source": [
    "df['age']=df['deathYear'].astype(int)-df['birthYear'].astype(int)"
   ]
  },
  {
   "cell_type": "code",
   "execution_count": 134,
   "id": "9dcf25df",
   "metadata": {},
   "outputs": [],
   "source": [
    "df=df.drop(columns=['deathYear_ab','birthYear_ab'])"
   ]
  },
  {
   "cell_type": "code",
   "execution_count": 135,
   "id": "457714cb",
   "metadata": {},
   "outputs": [
    {
     "data": {
      "text/html": [
       "<div>\n",
       "<style scoped>\n",
       "    .dataframe tbody tr th:only-of-type {\n",
       "        vertical-align: middle;\n",
       "    }\n",
       "\n",
       "    .dataframe tbody tr th {\n",
       "        vertical-align: top;\n",
       "    }\n",
       "\n",
       "    .dataframe thead th {\n",
       "        text-align: right;\n",
       "    }\n",
       "</style>\n",
       "<table border=\"1\" class=\"dataframe\">\n",
       "  <thead>\n",
       "    <tr style=\"text-align: right;\">\n",
       "      <th></th>\n",
       "      <th>nconst</th>\n",
       "      <th>primaryName</th>\n",
       "      <th>birthYear</th>\n",
       "      <th>deathYear</th>\n",
       "      <th>primaryProfession</th>\n",
       "      <th>knownForTitles</th>\n",
       "      <th>age</th>\n",
       "    </tr>\n",
       "  </thead>\n",
       "  <tbody>\n",
       "    <tr>\n",
       "      <th>0</th>\n",
       "      <td>nm0000001</td>\n",
       "      <td>Fred Astaire</td>\n",
       "      <td>1899</td>\n",
       "      <td>1987</td>\n",
       "      <td>[soundtrack, actor, miscellaneous]</td>\n",
       "      <td>[tt0050419, tt0031983, tt0053137, tt0072308]</td>\n",
       "      <td>88</td>\n",
       "    </tr>\n",
       "    <tr>\n",
       "      <th>1</th>\n",
       "      <td>nm0000002</td>\n",
       "      <td>Lauren Bacall</td>\n",
       "      <td>1924</td>\n",
       "      <td>2014</td>\n",
       "      <td>[actress, soundtrack]</td>\n",
       "      <td>[tt0117057, tt0038355, tt0071877, tt0037382]</td>\n",
       "      <td>90</td>\n",
       "    </tr>\n",
       "    <tr>\n",
       "      <th>2</th>\n",
       "      <td>nm0000003</td>\n",
       "      <td>Brigitte Bardot</td>\n",
       "      <td>1934</td>\n",
       "      <td>2023</td>\n",
       "      <td>[actress, soundtrack, music_department]</td>\n",
       "      <td>[tt0056404, tt0049189, tt0054452, tt0057345]</td>\n",
       "      <td>89</td>\n",
       "    </tr>\n",
       "    <tr>\n",
       "      <th>3</th>\n",
       "      <td>nm0000004</td>\n",
       "      <td>John Belushi</td>\n",
       "      <td>1949</td>\n",
       "      <td>1982</td>\n",
       "      <td>[actor, soundtrack, writer]</td>\n",
       "      <td>[tt0080455, tt0072562, tt0078723, tt0077975]</td>\n",
       "      <td>33</td>\n",
       "    </tr>\n",
       "    <tr>\n",
       "      <th>4</th>\n",
       "      <td>nm0000005</td>\n",
       "      <td>Ingmar Bergman</td>\n",
       "      <td>1918</td>\n",
       "      <td>2007</td>\n",
       "      <td>[writer, director, actor]</td>\n",
       "      <td>[tt0050986, tt0060827, tt0050976, tt0083922]</td>\n",
       "      <td>89</td>\n",
       "    </tr>\n",
       "    <tr>\n",
       "      <th>5</th>\n",
       "      <td>nm0000006</td>\n",
       "      <td>Ingrid Bergman</td>\n",
       "      <td>1915</td>\n",
       "      <td>1982</td>\n",
       "      <td>[actress, soundtrack, producer]</td>\n",
       "      <td>[tt0077711, tt0038109, tt0036855, tt0034583]</td>\n",
       "      <td>67</td>\n",
       "    </tr>\n",
       "    <tr>\n",
       "      <th>6</th>\n",
       "      <td>nm0000007</td>\n",
       "      <td>Humphrey Bogart</td>\n",
       "      <td>1899</td>\n",
       "      <td>1957</td>\n",
       "      <td>[actor, soundtrack, producer]</td>\n",
       "      <td>[tt0034583, tt0037382, tt0042593, tt0043265]</td>\n",
       "      <td>58</td>\n",
       "    </tr>\n",
       "    <tr>\n",
       "      <th>7</th>\n",
       "      <td>nm0000008</td>\n",
       "      <td>Marlon Brando</td>\n",
       "      <td>1924</td>\n",
       "      <td>2004</td>\n",
       "      <td>[actor, soundtrack, director]</td>\n",
       "      <td>[tt0047296, tt0068646, tt0070849, tt0078788]</td>\n",
       "      <td>80</td>\n",
       "    </tr>\n",
       "    <tr>\n",
       "      <th>8</th>\n",
       "      <td>nm0000009</td>\n",
       "      <td>Richard Burton</td>\n",
       "      <td>1925</td>\n",
       "      <td>1984</td>\n",
       "      <td>[actor, soundtrack, producer]</td>\n",
       "      <td>[tt0057877, tt0059749, tt0087803, tt0061184]</td>\n",
       "      <td>59</td>\n",
       "    </tr>\n",
       "    <tr>\n",
       "      <th>9</th>\n",
       "      <td>nm0000010</td>\n",
       "      <td>James Cagney</td>\n",
       "      <td>1899</td>\n",
       "      <td>1986</td>\n",
       "      <td>[actor, soundtrack, director]</td>\n",
       "      <td>[tt0031867, tt0035575, tt0042041, tt0029870]</td>\n",
       "      <td>87</td>\n",
       "    </tr>\n",
       "  </tbody>\n",
       "</table>\n",
       "</div>"
      ],
      "text/plain": [
       "      nconst      primaryName birthYear deathYear  \\\n",
       "0  nm0000001     Fred Astaire      1899      1987   \n",
       "1  nm0000002    Lauren Bacall      1924      2014   \n",
       "2  nm0000003  Brigitte Bardot      1934      2023   \n",
       "3  nm0000004     John Belushi      1949      1982   \n",
       "4  nm0000005   Ingmar Bergman      1918      2007   \n",
       "5  nm0000006   Ingrid Bergman      1915      1982   \n",
       "6  nm0000007  Humphrey Bogart      1899      1957   \n",
       "7  nm0000008    Marlon Brando      1924      2004   \n",
       "8  nm0000009   Richard Burton      1925      1984   \n",
       "9  nm0000010     James Cagney      1899      1986   \n",
       "\n",
       "                         primaryProfession  \\\n",
       "0       [soundtrack, actor, miscellaneous]   \n",
       "1                    [actress, soundtrack]   \n",
       "2  [actress, soundtrack, music_department]   \n",
       "3              [actor, soundtrack, writer]   \n",
       "4                [writer, director, actor]   \n",
       "5          [actress, soundtrack, producer]   \n",
       "6            [actor, soundtrack, producer]   \n",
       "7            [actor, soundtrack, director]   \n",
       "8            [actor, soundtrack, producer]   \n",
       "9            [actor, soundtrack, director]   \n",
       "\n",
       "                                 knownForTitles  age  \n",
       "0  [tt0050419, tt0031983, tt0053137, tt0072308]   88  \n",
       "1  [tt0117057, tt0038355, tt0071877, tt0037382]   90  \n",
       "2  [tt0056404, tt0049189, tt0054452, tt0057345]   89  \n",
       "3  [tt0080455, tt0072562, tt0078723, tt0077975]   33  \n",
       "4  [tt0050986, tt0060827, tt0050976, tt0083922]   89  \n",
       "5  [tt0077711, tt0038109, tt0036855, tt0034583]   67  \n",
       "6  [tt0034583, tt0037382, tt0042593, tt0043265]   58  \n",
       "7  [tt0047296, tt0068646, tt0070849, tt0078788]   80  \n",
       "8  [tt0057877, tt0059749, tt0087803, tt0061184]   59  \n",
       "9  [tt0031867, tt0035575, tt0042041, tt0029870]   87  "
      ]
     },
     "execution_count": 135,
     "metadata": {},
     "output_type": "execute_result"
    }
   ],
   "source": [
    "df.head(10)"
   ]
  },
  {
   "cell_type": "code",
   "execution_count": 136,
   "id": "cbca8546",
   "metadata": {},
   "outputs": [
    {
     "data": {
      "text/plain": [
       "Index([['actor'], ['actress'], ['nan'], ['writer']], dtype='object')"
      ]
     },
     "execution_count": 136,
     "metadata": {},
     "output_type": "execute_result"
    }
   ],
   "source": [
    "df.primaryProfession.value_counts().index[:4]"
   ]
  },
  {
   "cell_type": "code",
   "execution_count": 137,
   "id": "7045d0f1",
   "metadata": {},
   "outputs": [],
   "source": [
    "df['primaryProfession_ab']=df['primaryProfession'].apply(lambda x: 1 if 'nan' in x else 0)"
   ]
  },
  {
   "cell_type": "code",
   "execution_count": 138,
   "id": "7201bd13",
   "metadata": {},
   "outputs": [],
   "source": [
    "df=df[df['primaryProfession_ab']==0]"
   ]
  },
  {
   "cell_type": "code",
   "execution_count": 139,
   "id": "5c5a69b1",
   "metadata": {},
   "outputs": [],
   "source": [
    "df=df.drop(columns=['primaryProfession_ab'])"
   ]
  },
  {
   "cell_type": "code",
   "execution_count": 140,
   "id": "8618cf9b",
   "metadata": {},
   "outputs": [],
   "source": [
    "df['knownForTitles_ab']=df['knownForTitles'].apply(lambda x: 1 if '\\\\N' in x else 0)"
   ]
  },
  {
   "cell_type": "code",
   "execution_count": 141,
   "id": "b41d4d95",
   "metadata": {},
   "outputs": [],
   "source": [
    "df=df[df['knownForTitles_ab']==0]"
   ]
  },
  {
   "cell_type": "code",
   "execution_count": 142,
   "id": "9e52c0de",
   "metadata": {},
   "outputs": [],
   "source": [
    "df=df.drop(columns='knownForTitles_ab')"
   ]
  },
  {
   "cell_type": "code",
   "execution_count": 143,
   "id": "4ededb0a",
   "metadata": {},
   "outputs": [],
   "source": [
    "assert sum(df['nconst'].str.startswith('nm'))==df.shape[0]"
   ]
  },
  {
   "cell_type": "code",
   "execution_count": 145,
   "id": "888b0e71",
   "metadata": {},
   "outputs": [
    {
     "data": {
      "text/plain": [
       "478522"
      ]
     },
     "execution_count": 145,
     "metadata": {},
     "output_type": "execute_result"
    }
   ],
   "source": [
    "df.shape[0]"
   ]
  },
  {
   "cell_type": "code",
   "execution_count": 148,
   "id": "75c7f795",
   "metadata": {},
   "outputs": [],
   "source": [
    "occupation_list=[]"
   ]
  },
  {
   "cell_type": "code",
   "execution_count": 150,
   "id": "37c675d9",
   "metadata": {},
   "outputs": [
    {
     "data": {
      "text/plain": [
       "range(0, 478522)"
      ]
     },
     "execution_count": 150,
     "metadata": {},
     "output_type": "execute_result"
    }
   ],
   "source": [
    "range(df.shape[0])"
   ]
  },
  {
   "cell_type": "code",
   "execution_count": 157,
   "id": "399ac2f4",
   "metadata": {},
   "outputs": [],
   "source": [
    "df=df.reset_index()"
   ]
  },
  {
   "cell_type": "code",
   "execution_count": 158,
   "id": "c7b691d5",
   "metadata": {},
   "outputs": [],
   "source": [
    "for i in range(478522):\n",
    "    for j in df['primaryProfession'][i]:\n",
    "        if j in occupation_list:\n",
    "            break\n",
    "        else:\n",
    "            occupation_list.append(j)"
   ]
  },
  {
   "cell_type": "code",
   "execution_count": 205,
   "id": "f87694eb",
   "metadata": {},
   "outputs": [
    {
     "data": {
      "text/plain": [
       "['soundtrack',\n",
       " 'actor',\n",
       " 'miscellaneous',\n",
       " 'actress',\n",
       " 'music_department',\n",
       " 'writer',\n",
       " 'director',\n",
       " 'producer',\n",
       " 'make_up_department',\n",
       " 'composer',\n",
       " 'assistant_director',\n",
       " 'camera_department',\n",
       " 'cinematographer',\n",
       " 'editor',\n",
       " 'art_director',\n",
       " 'stunts',\n",
       " 'production_designer',\n",
       " 'costume_designer',\n",
       " 'editorial_department',\n",
       " 'sound_department',\n",
       " 'visual_effects',\n",
       " 'production_manager',\n",
       " 'location_management',\n",
       " 'costume_department',\n",
       " 'special_effects',\n",
       " 'set_decorator',\n",
       " 'art_department',\n",
       " 'casting_department',\n",
       " 'casting_director',\n",
       " 'script_department',\n",
       " 'animation_department',\n",
       " 'transportation_department',\n",
       " 'manager',\n",
       " 'talent_agent',\n",
       " 'executive',\n",
       " 'publicist',\n",
       " 'legal',\n",
       " 'assistant']"
      ]
     },
     "execution_count": 205,
     "metadata": {},
     "output_type": "execute_result"
    }
   ],
   "source": [
    "occupation_list"
   ]
  },
  {
   "cell_type": "code",
   "execution_count": 206,
   "id": "47b21ef3",
   "metadata": {},
   "outputs": [
    {
     "data": {
      "text/plain": [
       "38"
      ]
     },
     "execution_count": 206,
     "metadata": {},
     "output_type": "execute_result"
    }
   ],
   "source": [
    "len(occupation_list)"
   ]
  },
  {
   "cell_type": "code",
   "execution_count": 207,
   "id": "6afb1bd6",
   "metadata": {},
   "outputs": [],
   "source": [
    "occupation_dict={}"
   ]
  },
  {
   "cell_type": "code",
   "execution_count": 208,
   "id": "081c3b6d",
   "metadata": {},
   "outputs": [],
   "source": [
    "occupation_enu=enumerate(occupation_list,start=0)"
   ]
  },
  {
   "cell_type": "code",
   "execution_count": 209,
   "id": "cdf3dfd7",
   "metadata": {},
   "outputs": [],
   "source": [
    "for count, value in occupation_enu:\n",
    "    occupation_dict.update({count:value})"
   ]
  },
  {
   "cell_type": "code",
   "execution_count": 210,
   "id": "b5a3cffe",
   "metadata": {},
   "outputs": [
    {
     "data": {
      "text/plain": [
       "{0: 'soundtrack',\n",
       " 1: 'actor',\n",
       " 2: 'miscellaneous',\n",
       " 3: 'actress',\n",
       " 4: 'music_department',\n",
       " 5: 'writer',\n",
       " 6: 'director',\n",
       " 7: 'producer',\n",
       " 8: 'make_up_department',\n",
       " 9: 'composer',\n",
       " 10: 'assistant_director',\n",
       " 11: 'camera_department',\n",
       " 12: 'cinematographer',\n",
       " 13: 'editor',\n",
       " 14: 'art_director',\n",
       " 15: 'stunts',\n",
       " 16: 'production_designer',\n",
       " 17: 'costume_designer',\n",
       " 18: 'editorial_department',\n",
       " 19: 'sound_department',\n",
       " 20: 'visual_effects',\n",
       " 21: 'production_manager',\n",
       " 22: 'location_management',\n",
       " 23: 'costume_department',\n",
       " 24: 'special_effects',\n",
       " 25: 'set_decorator',\n",
       " 26: 'art_department',\n",
       " 27: 'casting_department',\n",
       " 28: 'casting_director',\n",
       " 29: 'script_department',\n",
       " 30: 'animation_department',\n",
       " 31: 'transportation_department',\n",
       " 32: 'manager',\n",
       " 33: 'talent_agent',\n",
       " 34: 'executive',\n",
       " 35: 'publicist',\n",
       " 36: 'legal',\n",
       " 37: 'assistant'}"
      ]
     },
     "execution_count": 210,
     "metadata": {},
     "output_type": "execute_result"
    }
   ],
   "source": [
    "occupation_dict"
   ]
  },
  {
   "cell_type": "code",
   "execution_count": 211,
   "id": "fa93a941",
   "metadata": {},
   "outputs": [],
   "source": [
    "new_dict={v:k for k,v in occupation_dict.items()}"
   ]
  },
  {
   "cell_type": "code",
   "execution_count": 212,
   "id": "240ee7a2",
   "metadata": {},
   "outputs": [
    {
     "data": {
      "text/plain": [
       "{'soundtrack': 0,\n",
       " 'actor': 1,\n",
       " 'miscellaneous': 2,\n",
       " 'actress': 3,\n",
       " 'music_department': 4,\n",
       " 'writer': 5,\n",
       " 'director': 6,\n",
       " 'producer': 7,\n",
       " 'make_up_department': 8,\n",
       " 'composer': 9,\n",
       " 'assistant_director': 10,\n",
       " 'camera_department': 11,\n",
       " 'cinematographer': 12,\n",
       " 'editor': 13,\n",
       " 'art_director': 14,\n",
       " 'stunts': 15,\n",
       " 'production_designer': 16,\n",
       " 'costume_designer': 17,\n",
       " 'editorial_department': 18,\n",
       " 'sound_department': 19,\n",
       " 'visual_effects': 20,\n",
       " 'production_manager': 21,\n",
       " 'location_management': 22,\n",
       " 'costume_department': 23,\n",
       " 'special_effects': 24,\n",
       " 'set_decorator': 25,\n",
       " 'art_department': 26,\n",
       " 'casting_department': 27,\n",
       " 'casting_director': 28,\n",
       " 'script_department': 29,\n",
       " 'animation_department': 30,\n",
       " 'transportation_department': 31,\n",
       " 'manager': 32,\n",
       " 'talent_agent': 33,\n",
       " 'executive': 34,\n",
       " 'publicist': 35,\n",
       " 'legal': 36,\n",
       " 'assistant': 37}"
      ]
     },
     "execution_count": 212,
     "metadata": {},
     "output_type": "execute_result"
    }
   ],
   "source": [
    "new_dict"
   ]
  },
  {
   "cell_type": "code",
   "execution_count": 215,
   "id": "8aced714",
   "metadata": {},
   "outputs": [],
   "source": [
    "df['occupation']=df['primaryProfession'].apply(lambda x: [new_dict.get(i) for i in x])"
   ]
  },
  {
   "cell_type": "code",
   "execution_count": 217,
   "id": "fd6763e1",
   "metadata": {},
   "outputs": [
    {
     "data": {
      "text/html": [
       "<div>\n",
       "<style scoped>\n",
       "    .dataframe tbody tr th:only-of-type {\n",
       "        vertical-align: middle;\n",
       "    }\n",
       "\n",
       "    .dataframe tbody tr th {\n",
       "        vertical-align: top;\n",
       "    }\n",
       "\n",
       "    .dataframe thead th {\n",
       "        text-align: right;\n",
       "    }\n",
       "</style>\n",
       "<table border=\"1\" class=\"dataframe\">\n",
       "  <thead>\n",
       "    <tr style=\"text-align: right;\">\n",
       "      <th></th>\n",
       "      <th>index</th>\n",
       "      <th>nconst</th>\n",
       "      <th>primaryName</th>\n",
       "      <th>birthYear</th>\n",
       "      <th>deathYear</th>\n",
       "      <th>primaryProfession</th>\n",
       "      <th>knownForTitles</th>\n",
       "      <th>age</th>\n",
       "      <th>occupation</th>\n",
       "    </tr>\n",
       "  </thead>\n",
       "  <tbody>\n",
       "    <tr>\n",
       "      <th>0</th>\n",
       "      <td>0</td>\n",
       "      <td>nm0000001</td>\n",
       "      <td>Fred Astaire</td>\n",
       "      <td>1899</td>\n",
       "      <td>1987</td>\n",
       "      <td>[soundtrack, actor, miscellaneous]</td>\n",
       "      <td>[tt0050419, tt0031983, tt0053137, tt0072308]</td>\n",
       "      <td>88</td>\n",
       "      <td>[0, 1, 2]</td>\n",
       "    </tr>\n",
       "    <tr>\n",
       "      <th>1</th>\n",
       "      <td>1</td>\n",
       "      <td>nm0000002</td>\n",
       "      <td>Lauren Bacall</td>\n",
       "      <td>1924</td>\n",
       "      <td>2014</td>\n",
       "      <td>[actress, soundtrack]</td>\n",
       "      <td>[tt0117057, tt0038355, tt0071877, tt0037382]</td>\n",
       "      <td>90</td>\n",
       "      <td>[3, 0]</td>\n",
       "    </tr>\n",
       "    <tr>\n",
       "      <th>2</th>\n",
       "      <td>2</td>\n",
       "      <td>nm0000003</td>\n",
       "      <td>Brigitte Bardot</td>\n",
       "      <td>1934</td>\n",
       "      <td>2023</td>\n",
       "      <td>[actress, soundtrack, music_department]</td>\n",
       "      <td>[tt0056404, tt0049189, tt0054452, tt0057345]</td>\n",
       "      <td>89</td>\n",
       "      <td>[3, 0, 4]</td>\n",
       "    </tr>\n",
       "    <tr>\n",
       "      <th>3</th>\n",
       "      <td>3</td>\n",
       "      <td>nm0000004</td>\n",
       "      <td>John Belushi</td>\n",
       "      <td>1949</td>\n",
       "      <td>1982</td>\n",
       "      <td>[actor, soundtrack, writer]</td>\n",
       "      <td>[tt0080455, tt0072562, tt0078723, tt0077975]</td>\n",
       "      <td>33</td>\n",
       "      <td>[1, 0, 5]</td>\n",
       "    </tr>\n",
       "    <tr>\n",
       "      <th>4</th>\n",
       "      <td>4</td>\n",
       "      <td>nm0000005</td>\n",
       "      <td>Ingmar Bergman</td>\n",
       "      <td>1918</td>\n",
       "      <td>2007</td>\n",
       "      <td>[writer, director, actor]</td>\n",
       "      <td>[tt0050986, tt0060827, tt0050976, tt0083922]</td>\n",
       "      <td>89</td>\n",
       "      <td>[5, 6, 1]</td>\n",
       "    </tr>\n",
       "    <tr>\n",
       "      <th>5</th>\n",
       "      <td>5</td>\n",
       "      <td>nm0000006</td>\n",
       "      <td>Ingrid Bergman</td>\n",
       "      <td>1915</td>\n",
       "      <td>1982</td>\n",
       "      <td>[actress, soundtrack, producer]</td>\n",
       "      <td>[tt0077711, tt0038109, tt0036855, tt0034583]</td>\n",
       "      <td>67</td>\n",
       "      <td>[3, 0, 7]</td>\n",
       "    </tr>\n",
       "    <tr>\n",
       "      <th>6</th>\n",
       "      <td>6</td>\n",
       "      <td>nm0000007</td>\n",
       "      <td>Humphrey Bogart</td>\n",
       "      <td>1899</td>\n",
       "      <td>1957</td>\n",
       "      <td>[actor, soundtrack, producer]</td>\n",
       "      <td>[tt0034583, tt0037382, tt0042593, tt0043265]</td>\n",
       "      <td>58</td>\n",
       "      <td>[1, 0, 7]</td>\n",
       "    </tr>\n",
       "    <tr>\n",
       "      <th>7</th>\n",
       "      <td>7</td>\n",
       "      <td>nm0000008</td>\n",
       "      <td>Marlon Brando</td>\n",
       "      <td>1924</td>\n",
       "      <td>2004</td>\n",
       "      <td>[actor, soundtrack, director]</td>\n",
       "      <td>[tt0047296, tt0068646, tt0070849, tt0078788]</td>\n",
       "      <td>80</td>\n",
       "      <td>[1, 0, 6]</td>\n",
       "    </tr>\n",
       "    <tr>\n",
       "      <th>8</th>\n",
       "      <td>8</td>\n",
       "      <td>nm0000009</td>\n",
       "      <td>Richard Burton</td>\n",
       "      <td>1925</td>\n",
       "      <td>1984</td>\n",
       "      <td>[actor, soundtrack, producer]</td>\n",
       "      <td>[tt0057877, tt0059749, tt0087803, tt0061184]</td>\n",
       "      <td>59</td>\n",
       "      <td>[1, 0, 7]</td>\n",
       "    </tr>\n",
       "    <tr>\n",
       "      <th>9</th>\n",
       "      <td>9</td>\n",
       "      <td>nm0000010</td>\n",
       "      <td>James Cagney</td>\n",
       "      <td>1899</td>\n",
       "      <td>1986</td>\n",
       "      <td>[actor, soundtrack, director]</td>\n",
       "      <td>[tt0031867, tt0035575, tt0042041, tt0029870]</td>\n",
       "      <td>87</td>\n",
       "      <td>[1, 0, 6]</td>\n",
       "    </tr>\n",
       "    <tr>\n",
       "      <th>10</th>\n",
       "      <td>10</td>\n",
       "      <td>nm0000011</td>\n",
       "      <td>Gary Cooper</td>\n",
       "      <td>1901</td>\n",
       "      <td>1961</td>\n",
       "      <td>[actor, soundtrack, producer]</td>\n",
       "      <td>[tt0044706, tt0027996, tt0034167, tt0035896]</td>\n",
       "      <td>60</td>\n",
       "      <td>[1, 0, 7]</td>\n",
       "    </tr>\n",
       "    <tr>\n",
       "      <th>11</th>\n",
       "      <td>11</td>\n",
       "      <td>nm0000012</td>\n",
       "      <td>Bette Davis</td>\n",
       "      <td>1908</td>\n",
       "      <td>1989</td>\n",
       "      <td>[actress, soundtrack, make_up_department]</td>\n",
       "      <td>[tt0056687, tt0031210, tt0035140, tt0042192]</td>\n",
       "      <td>81</td>\n",
       "      <td>[3, 0, 8]</td>\n",
       "    </tr>\n",
       "    <tr>\n",
       "      <th>12</th>\n",
       "      <td>12</td>\n",
       "      <td>nm0000013</td>\n",
       "      <td>Doris Day</td>\n",
       "      <td>1922</td>\n",
       "      <td>2019</td>\n",
       "      <td>[soundtrack, actress, producer]</td>\n",
       "      <td>[tt0053172, tt0049470, tt0048317, tt0045591]</td>\n",
       "      <td>97</td>\n",
       "      <td>[0, 3, 7]</td>\n",
       "    </tr>\n",
       "    <tr>\n",
       "      <th>13</th>\n",
       "      <td>13</td>\n",
       "      <td>nm0000014</td>\n",
       "      <td>Olivia de Havilland</td>\n",
       "      <td>1916</td>\n",
       "      <td>2020</td>\n",
       "      <td>[actress, soundtrack]</td>\n",
       "      <td>[tt0029843, tt0040806, tt0041452, tt0031381]</td>\n",
       "      <td>104</td>\n",
       "      <td>[3, 0]</td>\n",
       "    </tr>\n",
       "    <tr>\n",
       "      <th>14</th>\n",
       "      <td>14</td>\n",
       "      <td>nm0000015</td>\n",
       "      <td>James Dean</td>\n",
       "      <td>1931</td>\n",
       "      <td>1955</td>\n",
       "      <td>[actor, miscellaneous]</td>\n",
       "      <td>[tt0048028, tt0039123, tt0049261, tt0048545]</td>\n",
       "      <td>24</td>\n",
       "      <td>[1, 2]</td>\n",
       "    </tr>\n",
       "    <tr>\n",
       "      <th>15</th>\n",
       "      <td>15</td>\n",
       "      <td>nm0000016</td>\n",
       "      <td>Georges Delerue</td>\n",
       "      <td>1925</td>\n",
       "      <td>1992</td>\n",
       "      <td>[composer, soundtrack, music_department]</td>\n",
       "      <td>[tt0091763, tt0069946, tt0096320, tt8847712]</td>\n",
       "      <td>67</td>\n",
       "      <td>[9, 0, 4]</td>\n",
       "    </tr>\n",
       "    <tr>\n",
       "      <th>16</th>\n",
       "      <td>16</td>\n",
       "      <td>nm0000017</td>\n",
       "      <td>Marlene Dietrich</td>\n",
       "      <td>1901</td>\n",
       "      <td>1992</td>\n",
       "      <td>[soundtrack, actress, music_department]</td>\n",
       "      <td>[tt0021156, tt0051201, tt0055031, tt0052311]</td>\n",
       "      <td>91</td>\n",
       "      <td>[0, 3, 4]</td>\n",
       "    </tr>\n",
       "    <tr>\n",
       "      <th>17</th>\n",
       "      <td>17</td>\n",
       "      <td>nm0000018</td>\n",
       "      <td>Kirk Douglas</td>\n",
       "      <td>1916</td>\n",
       "      <td>2020</td>\n",
       "      <td>[actor, producer, soundtrack]</td>\n",
       "      <td>[tt0043338, tt0080736, tt0054331, tt0049456]</td>\n",
       "      <td>104</td>\n",
       "      <td>[1, 7, 0]</td>\n",
       "    </tr>\n",
       "    <tr>\n",
       "      <th>18</th>\n",
       "      <td>18</td>\n",
       "      <td>nm0000019</td>\n",
       "      <td>Federico Fellini</td>\n",
       "      <td>1920</td>\n",
       "      <td>1993</td>\n",
       "      <td>[writer, director, assistant_director]</td>\n",
       "      <td>[tt0053779, tt0050783, tt0071129, tt0056801]</td>\n",
       "      <td>73</td>\n",
       "      <td>[5, 6, 10]</td>\n",
       "    </tr>\n",
       "    <tr>\n",
       "      <th>19</th>\n",
       "      <td>19</td>\n",
       "      <td>nm0000020</td>\n",
       "      <td>Henry Fonda</td>\n",
       "      <td>1905</td>\n",
       "      <td>1982</td>\n",
       "      <td>[actor, producer, soundtrack]</td>\n",
       "      <td>[tt0051207, tt0032551, tt0050083, tt0082846]</td>\n",
       "      <td>77</td>\n",
       "      <td>[1, 7, 0]</td>\n",
       "    </tr>\n",
       "  </tbody>\n",
       "</table>\n",
       "</div>"
      ],
      "text/plain": [
       "    index     nconst          primaryName birthYear deathYear  \\\n",
       "0       0  nm0000001         Fred Astaire      1899      1987   \n",
       "1       1  nm0000002        Lauren Bacall      1924      2014   \n",
       "2       2  nm0000003      Brigitte Bardot      1934      2023   \n",
       "3       3  nm0000004         John Belushi      1949      1982   \n",
       "4       4  nm0000005       Ingmar Bergman      1918      2007   \n",
       "5       5  nm0000006       Ingrid Bergman      1915      1982   \n",
       "6       6  nm0000007      Humphrey Bogart      1899      1957   \n",
       "7       7  nm0000008        Marlon Brando      1924      2004   \n",
       "8       8  nm0000009       Richard Burton      1925      1984   \n",
       "9       9  nm0000010         James Cagney      1899      1986   \n",
       "10     10  nm0000011          Gary Cooper      1901      1961   \n",
       "11     11  nm0000012          Bette Davis      1908      1989   \n",
       "12     12  nm0000013            Doris Day      1922      2019   \n",
       "13     13  nm0000014  Olivia de Havilland      1916      2020   \n",
       "14     14  nm0000015           James Dean      1931      1955   \n",
       "15     15  nm0000016      Georges Delerue      1925      1992   \n",
       "16     16  nm0000017     Marlene Dietrich      1901      1992   \n",
       "17     17  nm0000018         Kirk Douglas      1916      2020   \n",
       "18     18  nm0000019     Federico Fellini      1920      1993   \n",
       "19     19  nm0000020          Henry Fonda      1905      1982   \n",
       "\n",
       "                            primaryProfession  \\\n",
       "0          [soundtrack, actor, miscellaneous]   \n",
       "1                       [actress, soundtrack]   \n",
       "2     [actress, soundtrack, music_department]   \n",
       "3                 [actor, soundtrack, writer]   \n",
       "4                   [writer, director, actor]   \n",
       "5             [actress, soundtrack, producer]   \n",
       "6               [actor, soundtrack, producer]   \n",
       "7               [actor, soundtrack, director]   \n",
       "8               [actor, soundtrack, producer]   \n",
       "9               [actor, soundtrack, director]   \n",
       "10              [actor, soundtrack, producer]   \n",
       "11  [actress, soundtrack, make_up_department]   \n",
       "12            [soundtrack, actress, producer]   \n",
       "13                      [actress, soundtrack]   \n",
       "14                     [actor, miscellaneous]   \n",
       "15   [composer, soundtrack, music_department]   \n",
       "16    [soundtrack, actress, music_department]   \n",
       "17              [actor, producer, soundtrack]   \n",
       "18     [writer, director, assistant_director]   \n",
       "19              [actor, producer, soundtrack]   \n",
       "\n",
       "                                  knownForTitles  age  occupation  \n",
       "0   [tt0050419, tt0031983, tt0053137, tt0072308]   88   [0, 1, 2]  \n",
       "1   [tt0117057, tt0038355, tt0071877, tt0037382]   90      [3, 0]  \n",
       "2   [tt0056404, tt0049189, tt0054452, tt0057345]   89   [3, 0, 4]  \n",
       "3   [tt0080455, tt0072562, tt0078723, tt0077975]   33   [1, 0, 5]  \n",
       "4   [tt0050986, tt0060827, tt0050976, tt0083922]   89   [5, 6, 1]  \n",
       "5   [tt0077711, tt0038109, tt0036855, tt0034583]   67   [3, 0, 7]  \n",
       "6   [tt0034583, tt0037382, tt0042593, tt0043265]   58   [1, 0, 7]  \n",
       "7   [tt0047296, tt0068646, tt0070849, tt0078788]   80   [1, 0, 6]  \n",
       "8   [tt0057877, tt0059749, tt0087803, tt0061184]   59   [1, 0, 7]  \n",
       "9   [tt0031867, tt0035575, tt0042041, tt0029870]   87   [1, 0, 6]  \n",
       "10  [tt0044706, tt0027996, tt0034167, tt0035896]   60   [1, 0, 7]  \n",
       "11  [tt0056687, tt0031210, tt0035140, tt0042192]   81   [3, 0, 8]  \n",
       "12  [tt0053172, tt0049470, tt0048317, tt0045591]   97   [0, 3, 7]  \n",
       "13  [tt0029843, tt0040806, tt0041452, tt0031381]  104      [3, 0]  \n",
       "14  [tt0048028, tt0039123, tt0049261, tt0048545]   24      [1, 2]  \n",
       "15  [tt0091763, tt0069946, tt0096320, tt8847712]   67   [9, 0, 4]  \n",
       "16  [tt0021156, tt0051201, tt0055031, tt0052311]   91   [0, 3, 4]  \n",
       "17  [tt0043338, tt0080736, tt0054331, tt0049456]  104   [1, 7, 0]  \n",
       "18  [tt0053779, tt0050783, tt0071129, tt0056801]   73  [5, 6, 10]  \n",
       "19  [tt0051207, tt0032551, tt0050083, tt0082846]   77   [1, 7, 0]  "
      ]
     },
     "execution_count": 217,
     "metadata": {},
     "output_type": "execute_result"
    }
   ],
   "source": [
    "df.head(20)"
   ]
  },
  {
   "cell_type": "code",
   "execution_count": 86,
   "id": "39aa1e73",
   "metadata": {},
   "outputs": [],
   "source": [
    "usr_emb = Embedding(num_embeddings=df.shape[0],\n",
    "                embedding_dim=32,\n",
    "                sparse=False)"
   ]
  },
  {
   "cell_type": "code",
   "execution_count": 88,
   "id": "17682ec1",
   "metadata": {},
   "outputs": [],
   "source": [
    "df['nconst_id'] = pd.factorize(df['nconst'])[0]"
   ]
  },
  {
   "cell_type": "code",
   "execution_count": 100,
   "id": "09853186",
   "metadata": {},
   "outputs": [],
   "source": [
    "df['age_bin'] = pd.cut(df['age'], bins=[0, 18, 25, 35, 45, 55, 65, 75, np.inf], labels=False)"
   ]
  },
  {
   "cell_type": "code",
   "execution_count": 103,
   "id": "145a39d0",
   "metadata": {},
   "outputs": [
    {
     "data": {
      "text/html": [
       "<div>\n",
       "<style scoped>\n",
       "    .dataframe tbody tr th:only-of-type {\n",
       "        vertical-align: middle;\n",
       "    }\n",
       "\n",
       "    .dataframe tbody tr th {\n",
       "        vertical-align: top;\n",
       "    }\n",
       "\n",
       "    .dataframe thead th {\n",
       "        text-align: right;\n",
       "    }\n",
       "</style>\n",
       "<table border=\"1\" class=\"dataframe\">\n",
       "  <thead>\n",
       "    <tr style=\"text-align: right;\">\n",
       "      <th></th>\n",
       "      <th>primaryName</th>\n",
       "      <th>birthYear</th>\n",
       "      <th>deathYear</th>\n",
       "      <th>primaryProfession</th>\n",
       "      <th>knownForTitles</th>\n",
       "      <th>age</th>\n",
       "      <th>nconst_id</th>\n",
       "      <th>age_bin</th>\n",
       "    </tr>\n",
       "  </thead>\n",
       "  <tbody>\n",
       "    <tr>\n",
       "      <th>0</th>\n",
       "      <td>Fred Astaire</td>\n",
       "      <td>1899</td>\n",
       "      <td>1987</td>\n",
       "      <td>[soundtrack, actor, miscellaneous]</td>\n",
       "      <td>[tt0050419, tt0031983, tt0053137, tt0072308]</td>\n",
       "      <td>88</td>\n",
       "      <td>0</td>\n",
       "      <td>7.0</td>\n",
       "    </tr>\n",
       "    <tr>\n",
       "      <th>1</th>\n",
       "      <td>Lauren Bacall</td>\n",
       "      <td>1924</td>\n",
       "      <td>2014</td>\n",
       "      <td>[actress, soundtrack]</td>\n",
       "      <td>[tt0117057, tt0038355, tt0071877, tt0037382]</td>\n",
       "      <td>90</td>\n",
       "      <td>1</td>\n",
       "      <td>7.0</td>\n",
       "    </tr>\n",
       "    <tr>\n",
       "      <th>2</th>\n",
       "      <td>Brigitte Bardot</td>\n",
       "      <td>1934</td>\n",
       "      <td>2023</td>\n",
       "      <td>[actress, soundtrack, music_department]</td>\n",
       "      <td>[tt0056404, tt0049189, tt0054452, tt0057345]</td>\n",
       "      <td>89</td>\n",
       "      <td>2</td>\n",
       "      <td>7.0</td>\n",
       "    </tr>\n",
       "    <tr>\n",
       "      <th>3</th>\n",
       "      <td>John Belushi</td>\n",
       "      <td>1949</td>\n",
       "      <td>1982</td>\n",
       "      <td>[actor, soundtrack, writer]</td>\n",
       "      <td>[tt0080455, tt0072562, tt0078723, tt0077975]</td>\n",
       "      <td>33</td>\n",
       "      <td>3</td>\n",
       "      <td>2.0</td>\n",
       "    </tr>\n",
       "    <tr>\n",
       "      <th>4</th>\n",
       "      <td>Ingmar Bergman</td>\n",
       "      <td>1918</td>\n",
       "      <td>2007</td>\n",
       "      <td>[writer, director, actor]</td>\n",
       "      <td>[tt0050986, tt0060827, tt0050976, tt0083922]</td>\n",
       "      <td>89</td>\n",
       "      <td>4</td>\n",
       "      <td>7.0</td>\n",
       "    </tr>\n",
       "    <tr>\n",
       "      <th>5</th>\n",
       "      <td>Ingrid Bergman</td>\n",
       "      <td>1915</td>\n",
       "      <td>1982</td>\n",
       "      <td>[actress, soundtrack, producer]</td>\n",
       "      <td>[tt0077711, tt0038109, tt0036855, tt0034583]</td>\n",
       "      <td>67</td>\n",
       "      <td>5</td>\n",
       "      <td>6.0</td>\n",
       "    </tr>\n",
       "    <tr>\n",
       "      <th>6</th>\n",
       "      <td>Humphrey Bogart</td>\n",
       "      <td>1899</td>\n",
       "      <td>1957</td>\n",
       "      <td>[actor, soundtrack, producer]</td>\n",
       "      <td>[tt0034583, tt0037382, tt0042593, tt0043265]</td>\n",
       "      <td>58</td>\n",
       "      <td>6</td>\n",
       "      <td>5.0</td>\n",
       "    </tr>\n",
       "    <tr>\n",
       "      <th>7</th>\n",
       "      <td>Marlon Brando</td>\n",
       "      <td>1924</td>\n",
       "      <td>2004</td>\n",
       "      <td>[actor, soundtrack, director]</td>\n",
       "      <td>[tt0047296, tt0068646, tt0070849, tt0078788]</td>\n",
       "      <td>80</td>\n",
       "      <td>7</td>\n",
       "      <td>7.0</td>\n",
       "    </tr>\n",
       "    <tr>\n",
       "      <th>8</th>\n",
       "      <td>Richard Burton</td>\n",
       "      <td>1925</td>\n",
       "      <td>1984</td>\n",
       "      <td>[actor, soundtrack, producer]</td>\n",
       "      <td>[tt0057877, tt0059749, tt0087803, tt0061184]</td>\n",
       "      <td>59</td>\n",
       "      <td>8</td>\n",
       "      <td>5.0</td>\n",
       "    </tr>\n",
       "    <tr>\n",
       "      <th>9</th>\n",
       "      <td>James Cagney</td>\n",
       "      <td>1899</td>\n",
       "      <td>1986</td>\n",
       "      <td>[actor, soundtrack, director]</td>\n",
       "      <td>[tt0031867, tt0035575, tt0042041, tt0029870]</td>\n",
       "      <td>87</td>\n",
       "      <td>9</td>\n",
       "      <td>7.0</td>\n",
       "    </tr>\n",
       "  </tbody>\n",
       "</table>\n",
       "</div>"
      ],
      "text/plain": [
       "       primaryName birthYear deathYear  \\\n",
       "0     Fred Astaire      1899      1987   \n",
       "1    Lauren Bacall      1924      2014   \n",
       "2  Brigitte Bardot      1934      2023   \n",
       "3     John Belushi      1949      1982   \n",
       "4   Ingmar Bergman      1918      2007   \n",
       "5   Ingrid Bergman      1915      1982   \n",
       "6  Humphrey Bogart      1899      1957   \n",
       "7    Marlon Brando      1924      2004   \n",
       "8   Richard Burton      1925      1984   \n",
       "9     James Cagney      1899      1986   \n",
       "\n",
       "                         primaryProfession  \\\n",
       "0       [soundtrack, actor, miscellaneous]   \n",
       "1                    [actress, soundtrack]   \n",
       "2  [actress, soundtrack, music_department]   \n",
       "3              [actor, soundtrack, writer]   \n",
       "4                [writer, director, actor]   \n",
       "5          [actress, soundtrack, producer]   \n",
       "6            [actor, soundtrack, producer]   \n",
       "7            [actor, soundtrack, director]   \n",
       "8            [actor, soundtrack, producer]   \n",
       "9            [actor, soundtrack, director]   \n",
       "\n",
       "                                 knownForTitles  age  nconst_id  age_bin  \n",
       "0  [tt0050419, tt0031983, tt0053137, tt0072308]   88          0      7.0  \n",
       "1  [tt0117057, tt0038355, tt0071877, tt0037382]   90          1      7.0  \n",
       "2  [tt0056404, tt0049189, tt0054452, tt0057345]   89          2      7.0  \n",
       "3  [tt0080455, tt0072562, tt0078723, tt0077975]   33          3      2.0  \n",
       "4  [tt0050986, tt0060827, tt0050976, tt0083922]   89          4      7.0  \n",
       "5  [tt0077711, tt0038109, tt0036855, tt0034583]   67          5      6.0  \n",
       "6  [tt0034583, tt0037382, tt0042593, tt0043265]   58          6      5.0  \n",
       "7  [tt0047296, tt0068646, tt0070849, tt0078788]   80          7      7.0  \n",
       "8  [tt0057877, tt0059749, tt0087803, tt0061184]   59          8      5.0  \n",
       "9  [tt0031867, tt0035575, tt0042041, tt0029870]   87          9      7.0  "
      ]
     },
     "execution_count": 103,
     "metadata": {},
     "output_type": "execute_result"
    }
   ],
   "source": [
    "df.head(10)"
   ]
  },
  {
   "cell_type": "code",
   "execution_count": null,
   "id": "84f5da3f",
   "metadata": {},
   "outputs": [],
   "source": []
  },
  {
   "cell_type": "code",
   "execution_count": 90,
   "id": "1a5e3b2f",
   "metadata": {},
   "outputs": [],
   "source": [
    "df=df.drop(columns='nconst')"
   ]
  },
  {
   "cell_type": "code",
   "execution_count": 92,
   "id": "2013527a",
   "metadata": {},
   "outputs": [],
   "source": [
    "nconst_input = Input(shape=(1,), name='nconst_input')"
   ]
  },
  {
   "cell_type": "code",
   "execution_count": 94,
   "id": "f6888837",
   "metadata": {},
   "outputs": [],
   "source": [
    "embedding_layer = Embedding(input_dim=df['nconst_id'].nunique(), output_dim=32, name='nconst_embedding')(nconst_input)"
   ]
  },
  {
   "cell_type": "code",
   "execution_count": 95,
   "id": "e3f51c07",
   "metadata": {},
   "outputs": [],
   "source": [
    "flatten_layer = Flatten()(embedding_layer)"
   ]
  },
  {
   "cell_type": "code",
   "execution_count": 96,
   "id": "26afa670",
   "metadata": {},
   "outputs": [],
   "source": [
    "hidden_layer = Dense(units=64, activation='relu')(flatten_layer)\n",
    "output_layer = Dense(units=1, activation='sigmoid')(hidden_layer)"
   ]
  },
  {
   "cell_type": "code",
   "execution_count": 99,
   "id": "b6a8f52a",
   "metadata": {},
   "outputs": [
    {
     "data": {
      "text/plain": [
       "<KerasTensor: shape=(None, 1, 32) dtype=float32 (created by layer 'nconst_embedding')>"
      ]
     },
     "execution_count": 99,
     "metadata": {},
     "output_type": "execute_result"
    }
   ],
   "source": [
    "embedding_layer"
   ]
  },
  {
   "cell_type": "code",
   "execution_count": 105,
   "id": "dc3a795b",
   "metadata": {},
   "outputs": [],
   "source": [
    "# 定义age输入层\n",
    "age_input = Input(shape=(1,), name='age_input')\n",
    "\n",
    "# 定义嵌入层，将age_bin映射为向量表示\n",
    "embedding_layer = Embedding(input_dim=df['age_bin'].nunique(), output_dim=32, name='age_embedding')(age_input)"
   ]
  },
  {
   "cell_type": "code",
   "execution_count": 106,
   "id": "a712c70a",
   "metadata": {},
   "outputs": [],
   "source": [
    "# 展平嵌入向量\n",
    "flatten_layer = Flatten()(embedding_layer)\n",
    "\n",
    "# 定义全连接层和输出层\n",
    "hidden_layer = Dense(units=64, activation='relu')(flatten_layer)\n",
    "output_layer = Dense(units=1, activation='sigmoid')(hidden_layer)"
   ]
  },
  {
   "cell_type": "code",
   "execution_count": 218,
   "id": "c1f858a0",
   "metadata": {},
   "outputs": [],
   "source": [
    "occupation_input = Input(shape=(1,), name='occupation_input')\n",
    "occupation_embedding = Embedding(input_dim=38, output_dim=32, input_length=1, name='occupation_embedding')(occupation_input)\n",
    "flatten_layer = Flatten()(occupation_embedding)"
   ]
  },
  {
   "cell_type": "code",
   "execution_count": 219,
   "id": "fe4bdf2f",
   "metadata": {},
   "outputs": [],
   "source": [
    "hidden_layer = Dense(units=64, activation='relu')(flatten_layer)\n",
    "output_layer = Dense(units=1, activation='sigmoid')(hidden_layer)"
   ]
  },
  {
   "cell_type": "code",
   "execution_count": 225,
   "id": "7558df14",
   "metadata": {},
   "outputs": [],
   "source": [
    "# 构建电影ID编码字典\n",
    "movie_dict = {}\n",
    "for index, row in df.iterrows():\n",
    "    titles = row['knownForTitles']\n",
    "    for title in titles:\n",
    "        if title not in movie_dict:\n",
    "            movie_dict[title] = len(movie_dict)\n",
    "\n",
    "\n",
    "# 构建embedding模型\n",
    "max_len = df['knownForTitles'].apply(len).max()  # 最长电影ID序列长度\n",
    "embedding_size = 16\n",
    "model = Sequential()\n",
    "model.add(Embedding(len(movie_dict), embedding_size, input_length=max_len))\n",
    "model.add(Flatten())\n",
    "\n"
   ]
  },
  {
   "cell_type": "code",
   "execution_count": 226,
   "id": "0fe491d9",
   "metadata": {},
   "outputs": [
    {
     "data": {
      "text/html": [
       "<div>\n",
       "<style scoped>\n",
       "    .dataframe tbody tr th:only-of-type {\n",
       "        vertical-align: middle;\n",
       "    }\n",
       "\n",
       "    .dataframe tbody tr th {\n",
       "        vertical-align: top;\n",
       "    }\n",
       "\n",
       "    .dataframe thead th {\n",
       "        text-align: right;\n",
       "    }\n",
       "</style>\n",
       "<table border=\"1\" class=\"dataframe\">\n",
       "  <thead>\n",
       "    <tr style=\"text-align: right;\">\n",
       "      <th></th>\n",
       "      <th>review</th>\n",
       "      <th>label</th>\n",
       "      <th>id</th>\n",
       "      <th>score</th>\n",
       "    </tr>\n",
       "  </thead>\n",
       "  <tbody>\n",
       "    <tr>\n",
       "      <th>0</th>\n",
       "      <td>For a movie that gets no respect there sure ar...</td>\n",
       "      <td>1</td>\n",
       "      <td>4715</td>\n",
       "      <td>9</td>\n",
       "    </tr>\n",
       "    <tr>\n",
       "      <th>1</th>\n",
       "      <td>Bizarre horror movie filled with famous faces ...</td>\n",
       "      <td>1</td>\n",
       "      <td>12390</td>\n",
       "      <td>8</td>\n",
       "    </tr>\n",
       "    <tr>\n",
       "      <th>2</th>\n",
       "      <td>A solid, if unremarkable film. Matthau, as Ein...</td>\n",
       "      <td>1</td>\n",
       "      <td>8329</td>\n",
       "      <td>7</td>\n",
       "    </tr>\n",
       "  </tbody>\n",
       "</table>\n",
       "</div>"
      ],
      "text/plain": [
       "                                              review  label     id score\n",
       "0  For a movie that gets no respect there sure ar...      1   4715     9\n",
       "1  Bizarre horror movie filled with famous faces ...      1  12390     8\n",
       "2  A solid, if unremarkable film. Matthau, as Ein...      1   8329     7"
      ]
     },
     "execution_count": 226,
     "metadata": {},
     "output_type": "execute_result"
    }
   ],
   "source": [
    "train.head(3)"
   ]
  },
  {
   "cell_type": "code",
   "execution_count": 227,
   "id": "27b6d9b1",
   "metadata": {},
   "outputs": [
    {
     "data": {
      "text/html": [
       "<div>\n",
       "<style scoped>\n",
       "    .dataframe tbody tr th:only-of-type {\n",
       "        vertical-align: middle;\n",
       "    }\n",
       "\n",
       "    .dataframe tbody tr th {\n",
       "        vertical-align: top;\n",
       "    }\n",
       "\n",
       "    .dataframe thead th {\n",
       "        text-align: right;\n",
       "    }\n",
       "</style>\n",
       "<table border=\"1\" class=\"dataframe\">\n",
       "  <thead>\n",
       "    <tr style=\"text-align: right;\">\n",
       "      <th></th>\n",
       "      <th>review</th>\n",
       "      <th>label</th>\n",
       "      <th>id</th>\n",
       "      <th>score</th>\n",
       "    </tr>\n",
       "  </thead>\n",
       "  <tbody>\n",
       "    <tr>\n",
       "      <th>0</th>\n",
       "      <td>Based on an actual story, John Boorman shows t...</td>\n",
       "      <td>1</td>\n",
       "      <td>4715</td>\n",
       "      <td>9</td>\n",
       "    </tr>\n",
       "    <tr>\n",
       "      <th>1</th>\n",
       "      <td>This is a gem. As a Film Four production - the...</td>\n",
       "      <td>1</td>\n",
       "      <td>1930</td>\n",
       "      <td>9</td>\n",
       "    </tr>\n",
       "    <tr>\n",
       "      <th>2</th>\n",
       "      <td>I really like this show. It has drama, romance...</td>\n",
       "      <td>1</td>\n",
       "      <td>3205</td>\n",
       "      <td>9</td>\n",
       "    </tr>\n",
       "  </tbody>\n",
       "</table>\n",
       "</div>"
      ],
      "text/plain": [
       "                                              review  label    id score\n",
       "0  Based on an actual story, John Boorman shows t...      1  4715     9\n",
       "1  This is a gem. As a Film Four production - the...      1  1930     9\n",
       "2  I really like this show. It has drama, romance...      1  3205     9"
      ]
     },
     "execution_count": 227,
     "metadata": {},
     "output_type": "execute_result"
    }
   ],
   "source": [
    "test.head(3)"
   ]
  },
  {
   "cell_type": "code",
   "execution_count": 229,
   "id": "0949ee70",
   "metadata": {},
   "outputs": [],
   "source": [
    "def custom_standardization(input_data):\n",
    "    lowercase = tf.strings.lower(input_data)\n",
    "    stripped_html = tf.strings.regex_replace(lowercase, '<br />', ' ')\n",
    "    return tf.strings.regex_replace(stripped_html,\n",
    "                                  '[%s]' % re.escape(string.punctuation),\n",
    "                                  '')"
   ]
  },
  {
   "cell_type": "code",
   "execution_count": 230,
   "id": "c948cf95",
   "metadata": {},
   "outputs": [],
   "source": [
    "max_features = 10000\n",
    "sequence_length = 250\n",
    "\n",
    "vectorize_layer = layers.TextVectorization(\n",
    "    standardize=custom_standardization,\n",
    "    max_tokens=max_features,\n",
    "    output_mode='int',\n",
    "    output_sequence_length=sequence_length)"
   ]
  },
  {
   "cell_type": "code",
   "execution_count": 231,
   "id": "8fdd9406",
   "metadata": {},
   "outputs": [],
   "source": [
    "vectorize_layer.adapt(train['review'])"
   ]
  },
  {
   "cell_type": "code",
   "execution_count": 232,
   "id": "47559ce7",
   "metadata": {},
   "outputs": [],
   "source": [
    "def vectorize_text(text):\n",
    "    text = tf.expand_dims(text, -1)\n",
    "    return vectorize_layer(text)"
   ]
  },
  {
   "cell_type": "code",
   "execution_count": 233,
   "id": "e80d5d06",
   "metadata": {},
   "outputs": [],
   "source": [
    "train_data=vectorize_text(train['review'])"
   ]
  },
  {
   "cell_type": "code",
   "execution_count": 234,
   "id": "fefa7dd9",
   "metadata": {},
   "outputs": [],
   "source": [
    "test_data=vectorize_text(test['review'])"
   ]
  },
  {
   "cell_type": "code",
   "execution_count": null,
   "id": "20384d3f",
   "metadata": {},
   "outputs": [],
   "source": []
  }
 ],
 "metadata": {
  "kernelspec": {
   "display_name": "Python 3 (ipykernel)",
   "language": "python",
   "name": "python3"
  },
  "language_info": {
   "codemirror_mode": {
    "name": "ipython",
    "version": 3
   },
   "file_extension": ".py",
   "mimetype": "text/x-python",
   "name": "python",
   "nbconvert_exporter": "python",
   "pygments_lexer": "ipython3",
   "version": "3.9.12"
  }
 },
 "nbformat": 4,
 "nbformat_minor": 5
}
